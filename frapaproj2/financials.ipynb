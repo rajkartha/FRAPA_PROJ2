{
 "nbformat": 4,
 "nbformat_minor": 2,
 "metadata": {
  "language_info": {
   "name": "python",
   "codemirror_mode": {
    "name": "ipython",
    "version": 3
   },
   "version": "3.7.4-final"
  },
  "orig_nbformat": 2,
  "file_extension": ".py",
  "mimetype": "text/x-python",
  "name": "python",
  "npconvert_exporter": "python",
  "pygments_lexer": "ipython3",
  "version": 3,
  "kernelspec": {
   "name": "python3",
   "display_name": "Python 3"
  }
 },
 "cells": [
  {
   "cell_type": "code",
   "execution_count": 1,
   "metadata": {},
   "outputs": [
    {
     "output_type": "stream",
     "name": "stdout",
     "text": "[{'Company': \"McDonald's\", 'Category': 'Burger', 'Systemwide_Sales_Millions': 38524.05, 'Avg_Sales_per_Unit_Thousands': 2768.73, 'Franchise_Units': 13229.0, 'Company_Units': 685.0, 'Total_Units': 13914.0, 'id': 29}, {'Company': 'Starbucks', 'Category': 'Snack', 'Systemwide_Sales_Millions': 19700.0, 'Avg_Sales_per_Unit_Thousands': 1349.32, 'Franchise_Units': 6332.0, 'Company_Units': 8493.0, 'Total_Units': 14825.0, 'id': 40}, {'Company': 'Subway', 'Category': 'Sandwich', 'Systemwide_Sales_Millions': 10410.34, 'Avg_Sales_per_Unit_Thousands': 420.0, 'Franchise_Units': 24798.0, 'Company_Units': 0.0, 'Total_Units': 24798.0, 'id': 42}, {'Company': 'Taco Bell', 'Category': 'Global', 'Systemwide_Sales_Millions': 10300.0, 'Avg_Sales_per_Unit_Thousands': 1600.0, 'Franchise_Units': 6126.0, 'Company_Units': 462.0, 'Total_Units': 6588.0, 'id': 43}, {'Company': 'Chick-fil-A', 'Category': 'Chicken', 'Systemwide_Sales_Millions': 10000.0, 'Avg_Sales_per_Unit_Thousands': 4166.67, 'Franchise_Units': 2400.0, 'Company_Units': 0.0, 'Total_Units': 2400.0, 'id': 8}, {'Company': \"Wendy's\", 'Category': 'Burger', 'Systemwide_Sales_Millions': 9993.7, 'Avg_Sales_per_Unit_Thousands': 1636.4, 'Franchise_Units': 5825.0, 'Company_Units': 353.0, 'Total_Units': 6711.0, 'id': 45}, {'Company': 'Burger King', 'Category': 'Burger', 'Systemwide_Sales_Millions': 9950.0, 'Avg_Sales_per_Unit_Thousands': 1357.0, 'Franchise_Units': 7278.0, 'Company_Units': 49.0, 'Total_Units': 7327.0, 'id': 5}, {'Company': \"Dunkin'\", 'Category': 'Snack', 'Systemwide_Sales_Millions': 8787.0, 'Avg_Sales_per_Unit_Thousands': 933.0, 'Franchise_Units': 9419.0, 'Company_Units': 0.0, 'Total_Units': 9419.0, 'id': 15}, {'Company': \"Domino's\", 'Category': 'Pizza', 'Systemwide_Sales_Millions': 6600.0, 'Avg_Sales_per_Unit_Thousands': 1123.0, 'Franchise_Units': 5486.0, 'Company_Units': 390.0, 'Total_Units': 5876.0, 'id': 14}, {'Company': 'Panera Bread', 'Category': 'Sandwich', 'Systemwide_Sales_Millions': 5734.63, 'Avg_Sales_per_Unit_Thousands': 2739.91, 'Franchise_Units': 1131.0, 'Company_Units': 963.0, 'Total_Units': 2093.0, 'id': 32}]\n"
    }
   ],
   "source": [
    "import sqlite3\n",
    "cur = sqlite3.connect('db/restaurants2018.sqlite').cursor()\n",
    "query = cur.execute('select * from rest_table ORDER BY Systemwide_Sales_Millions DESC LIMIT 10')\n",
    "colname = [ d[0] for d in query.description ]\n",
    "result_list2018 = [ dict(zip(colname, r)) for r in query.fetchall() ]\n",
    "cur.close()\n",
    "cur.connection.close()\n",
    "print(result_list2018)"
   ]
  },
  {
   "cell_type": "code",
   "execution_count": 2,
   "metadata": {},
   "outputs": [
    {
     "output_type": "execute_result",
     "data": {
      "text/plain": "'[{\"Company\": \"McDonald\\'s\", \"Category\": \"Burger\", \"Systemwide_Sales_Millions\": 38524.05, \"Avg_Sales_per_Unit_Thousands\": 2768.73, \"Franchise_Units\": 13229.0, \"Company_Units\": 685.0, \"Total_Units\": 13914.0, \"id\": 29}, {\"Company\": \"Starbucks\", \"Category\": \"Snack\", \"Systemwide_Sales_Millions\": 19700.0, \"Avg_Sales_per_Unit_Thousands\": 1349.32, \"Franchise_Units\": 6332.0, \"Company_Units\": 8493.0, \"Total_Units\": 14825.0, \"id\": 40}, {\"Company\": \"Subway\", \"Category\": \"Sandwich\", \"Systemwide_Sales_Millions\": 10410.34, \"Avg_Sales_per_Unit_Thousands\": 420.0, \"Franchise_Units\": 24798.0, \"Company_Units\": 0.0, \"Total_Units\": 24798.0, \"id\": 42}, {\"Company\": \"Taco Bell\", \"Category\": \"Global\", \"Systemwide_Sales_Millions\": 10300.0, \"Avg_Sales_per_Unit_Thousands\": 1600.0, \"Franchise_Units\": 6126.0, \"Company_Units\": 462.0, \"Total_Units\": 6588.0, \"id\": 43}, {\"Company\": \"Chick-fil-A\", \"Category\": \"Chicken\", \"Systemwide_Sales_Millions\": 10000.0, \"Avg_Sales_per_Unit_Thousands\": 4166.67, \"Franchise_Units\": 2400.0, \"Company_Units\": 0.0, \"Total_Units\": 2400.0, \"id\": 8}, {\"Company\": \"Wendy\\'s\", \"Category\": \"Burger\", \"Systemwide_Sales_Millions\": 9993.7, \"Avg_Sales_per_Unit_Thousands\": 1636.4, \"Franchise_Units\": 5825.0, \"Company_Units\": 353.0, \"Total_Units\": 6711.0, \"id\": 45}, {\"Company\": \"Burger King\", \"Category\": \"Burger\", \"Systemwide_Sales_Millions\": 9950.0, \"Avg_Sales_per_Unit_Thousands\": 1357.0, \"Franchise_Units\": 7278.0, \"Company_Units\": 49.0, \"Total_Units\": 7327.0, \"id\": 5}, {\"Company\": \"Dunkin\\'\", \"Category\": \"Snack\", \"Systemwide_Sales_Millions\": 8787.0, \"Avg_Sales_per_Unit_Thousands\": 933.0, \"Franchise_Units\": 9419.0, \"Company_Units\": 0.0, \"Total_Units\": 9419.0, \"id\": 15}, {\"Company\": \"Domino\\'s\", \"Category\": \"Pizza\", \"Systemwide_Sales_Millions\": 6600.0, \"Avg_Sales_per_Unit_Thousands\": 1123.0, \"Franchise_Units\": 5486.0, \"Company_Units\": 390.0, \"Total_Units\": 5876.0, \"id\": 14}, {\"Company\": \"Panera Bread\", \"Category\": \"Sandwich\", \"Systemwide_Sales_Millions\": 5734.63, \"Avg_Sales_per_Unit_Thousands\": 2739.91, \"Franchise_Units\": 1131.0, \"Company_Units\": 963.0, \"Total_Units\": 2093.0, \"id\": 32}]'"
     },
     "metadata": {},
     "execution_count": 2
    }
   ],
   "source": [
    "import json\n",
    "json.dumps(result_list2018)"
   ]
  },
  {
   "cell_type": "code",
   "execution_count": 4,
   "metadata": {},
   "outputs": [
    {
     "output_type": "stream",
     "name": "stdout",
     "text": "[{'Company': \"McDonald's\", 'Category': 'burger', 'Systemwide_Sales_Millions': 35600.0, 'Avg_Sales_per_Unit_Thousands': 2600.0, 'Franchise_Units': 12605.0, 'Company_Units': 1552.0, 'Total_Units': 14157.0, 'id': 29}, {'Company': 'Subway', 'Category': 'sandwich', 'Systemwide_Sales_Millions': 12100.0, 'Avg_Sales_per_Unit_Thousands': 481.0, 'Franchise_Units': 25549.0, 'Company_Units': 0.0, 'Total_Units': 25549.0, 'id': 42}, {'Company': 'Starbucks', 'Category': 'snack', 'Systemwide_Sales_Millions': 10600.0, 'Avg_Sales_per_Unit_Thousands': 1223.0, 'Franchise_Units': 4262.0, 'Company_Units': 6866.0, 'Total_Units': 11128.0, 'id': 40}, {'Company': \"Wendy's\", 'Category': 'burger', 'Systemwide_Sales_Millions': 8600.0, 'Avg_Sales_per_Unit_Thousands': 1483.8, 'Franchise_Units': 4528.0, 'Company_Units': 1289.0, 'Total_Units': 5817.0, 'id': 45}, {'Company': 'Burger King', 'Category': 'burger', 'Systemwide_Sales_Millions': 8587.0, 'Avg_Sales_per_Unit_Thousands': 1195.0, 'Franchise_Units': 7000.0, 'Company_Units': 183.0, 'Total_Units': 7183.0, 'id': 4}, {'Company': 'Taco Bell', 'Category': 'mexican', 'Systemwide_Sales_Millions': 7478.0, 'Avg_Sales_per_Unit_Thousands': 1363.0, 'Franchise_Units': 4218.0, 'Company_Units': 1044.0, 'Total_Units': 5262.0, 'id': 43}, {'Company': \"Dunkin' Donuts\", 'Category': 'snack', 'Systemwide_Sales_Millions': 6264.2, 'Avg_Sales_per_Unit_Thousands': 857.4, 'Franchise_Units': 7278.0, 'Company_Units': 28.0, 'Total_Units': 7306.0, 'id': 16}, {'Company': 'Pizza Hut', 'Category': 'pizza/pasta', 'Systemwide_Sales_Millions': 5666.0, 'Avg_Sales_per_Unit_Thousands': 883.0, 'Franchise_Units': 5757.0, 'Company_Units': 452.0, 'Total_Units': 6209.0, 'id': 35}, {'Company': 'Chick-fil-A', 'Category': 'chicken', 'Systemwide_Sales_Millions': 4621.1, 'Avg_Sales_per_Unit_Thousands': 3157.9, 'Franchise_Units': 1391.0, 'Company_Units': 292.0, 'Total_Units': 1683.0, 'id': 8}, {'Company': 'KFC', 'Category': 'chicken', 'Systemwide_Sales_Millions': 4459.0, 'Avg_Sales_per_Unit_Thousands': 957.0, 'Franchise_Units': 4319.0, 'Company_Units': 237.0, 'Total_Units': 4556.0, 'id': 25}]\n"
    }
   ],
   "source": [
    "import sqlite3\n",
    "cur = sqlite3.connect('db/restaurants2012.sqlite').cursor()\n",
    "query = cur.execute('select * from rest_table ORDER BY Systemwide_Sales_Millions DESC LIMIT 10')\n",
    "colname = [ d[0] for d in query.description ]\n",
    "result_list2012 = [ dict(zip(colname, r)) for r in query.fetchall() ]\n",
    "cur.close()\n",
    "cur.connection.close()\n",
    "print(result_list2012)"
   ]
  },
  {
   "cell_type": "code",
   "execution_count": 5,
   "metadata": {},
   "outputs": [
    {
     "output_type": "execute_result",
     "data": {
      "text/plain": "'[{\"Company\": \"McDonald\\'s\", \"Category\": \"burger\", \"Systemwide_Sales_Millions\": 35600.0, \"Avg_Sales_per_Unit_Thousands\": 2600.0, \"Franchise_Units\": 12605.0, \"Company_Units\": 1552.0, \"Total_Units\": 14157.0, \"id\": 29}, {\"Company\": \"Subway\", \"Category\": \"sandwich\", \"Systemwide_Sales_Millions\": 12100.0, \"Avg_Sales_per_Unit_Thousands\": 481.0, \"Franchise_Units\": 25549.0, \"Company_Units\": 0.0, \"Total_Units\": 25549.0, \"id\": 42}, {\"Company\": \"Starbucks\", \"Category\": \"snack\", \"Systemwide_Sales_Millions\": 10600.0, \"Avg_Sales_per_Unit_Thousands\": 1223.0, \"Franchise_Units\": 4262.0, \"Company_Units\": 6866.0, \"Total_Units\": 11128.0, \"id\": 40}, {\"Company\": \"Wendy\\'s\", \"Category\": \"burger\", \"Systemwide_Sales_Millions\": 8600.0, \"Avg_Sales_per_Unit_Thousands\": 1483.8, \"Franchise_Units\": 4528.0, \"Company_Units\": 1289.0, \"Total_Units\": 5817.0, \"id\": 45}, {\"Company\": \"Burger King\", \"Category\": \"burger\", \"Systemwide_Sales_Millions\": 8587.0, \"Avg_Sales_per_Unit_Thousands\": 1195.0, \"Franchise_Units\": 7000.0, \"Company_Units\": 183.0, \"Total_Units\": 7183.0, \"id\": 4}, {\"Company\": \"Taco Bell\", \"Category\": \"mexican\", \"Systemwide_Sales_Millions\": 7478.0, \"Avg_Sales_per_Unit_Thousands\": 1363.0, \"Franchise_Units\": 4218.0, \"Company_Units\": 1044.0, \"Total_Units\": 5262.0, \"id\": 43}, {\"Company\": \"Dunkin\\' Donuts\", \"Category\": \"snack\", \"Systemwide_Sales_Millions\": 6264.2, \"Avg_Sales_per_Unit_Thousands\": 857.4, \"Franchise_Units\": 7278.0, \"Company_Units\": 28.0, \"Total_Units\": 7306.0, \"id\": 16}, {\"Company\": \"Pizza Hut\", \"Category\": \"pizza/pasta\", \"Systemwide_Sales_Millions\": 5666.0, \"Avg_Sales_per_Unit_Thousands\": 883.0, \"Franchise_Units\": 5757.0, \"Company_Units\": 452.0, \"Total_Units\": 6209.0, \"id\": 35}, {\"Company\": \"Chick-fil-A\", \"Category\": \"chicken\", \"Systemwide_Sales_Millions\": 4621.1, \"Avg_Sales_per_Unit_Thousands\": 3157.9, \"Franchise_Units\": 1391.0, \"Company_Units\": 292.0, \"Total_Units\": 1683.0, \"id\": 8}, {\"Company\": \"KFC\", \"Category\": \"chicken\", \"Systemwide_Sales_Millions\": 4459.0, \"Avg_Sales_per_Unit_Thousands\": 957.0, \"Franchise_Units\": 4319.0, \"Company_Units\": 237.0, \"Total_Units\": 4556.0, \"id\": 25}]'"
     },
     "metadata": {},
     "execution_count": 5
    }
   ],
   "source": [
    "json.dumps(result_list2012)"
   ]
  },
  {
   "cell_type": "code",
   "execution_count": null,
   "metadata": {},
   "outputs": [],
   "source": []
  }
 ]
}