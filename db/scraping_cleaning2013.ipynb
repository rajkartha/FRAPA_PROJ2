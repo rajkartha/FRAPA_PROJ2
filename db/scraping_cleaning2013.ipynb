{
 "nbformat": 4,
 "nbformat_minor": 2,
 "metadata": {
  "language_info": {
   "name": "python",
   "codemirror_mode": {
    "name": "ipython",
    "version": 3
   },
   "version": "3.7.4-final"
  },
  "orig_nbformat": 2,
  "file_extension": ".py",
  "mimetype": "text/x-python",
  "name": "python",
  "npconvert_exporter": "python",
  "pygments_lexer": "ipython3",
  "version": 3,
  "kernelspec": {
   "name": "python3",
   "display_name": "Python 3"
  }
 },
 "cells": [
  {
   "cell_type": "code",
   "execution_count": 1,
   "metadata": {},
   "outputs": [],
   "source": [
    "# Dependencies\n",
    "from bs4 import BeautifulSoup\n",
    "import requests"
   ]
  },
  {
   "cell_type": "code",
   "execution_count": 2,
   "metadata": {},
   "outputs": [],
   "source": [
    "# URL of page to be scraped\n",
    "url = 'https://www.qsrmagazine.com/reports/qsr50-2013-top-50-chart'"
   ]
  },
  {
   "cell_type": "code",
   "execution_count": 3,
   "metadata": {},
   "outputs": [],
   "source": [
    "# Retrieve page with the requests module\n",
    "response = requests.get(url)"
   ]
  },
  {
   "cell_type": "code",
   "execution_count": 4,
   "metadata": {},
   "outputs": [],
   "source": [
    "# Create BeautifulSoup object; parse with 'html.parser'\n",
    "soup = BeautifulSoup(response.text, 'html.parser')"
   ]
  },
  {
   "cell_type": "code",
   "execution_count": 5,
   "metadata": {
    "tags": [
     "outputPrepend"
    ]
   },
   "outputs": [
    {
     "output_type": "stream",
     "name": "stdout",
     "text": "               Fast Food\n               </a>\n              </a>\n             </h2>\n             <div class=\"category-card__primary-image\">\n              <a href=\"/fast-food/mcdonalds-check-employees-health-work\">\n               <img alt=\"The exterior of a McDonald's restaurant.\" src=\"https://www.qsrmagazine.com/sites/default/files/styles/media_thumbnail/public/story/mcdonalds-becomes-100-billion-company.jpg?itok=Tgew6Ytx\"/>\n              </a>\n             </div>\n             <div class=\"category-card__primary-title\">\n              <a href=\"/fast-food/mcdonalds-check-employees-health-work\" hreflang=\"en\">\n               McDonald’s to Check Employees’ Health Before Work\n              </a>\n             </div>\n             <div class=\"category-card__other-title category-card__other-title-1\">\n              <a href=\"/legal/restaurants-theres-big-problem-stimulus-package\" hreflang=\"en\">\n               For Restaurants, there’s a Big Problem with the Stimulus Package\n              </a>\n             </div>\n             <div class=\"category-card__other-title category-card__other-title-2\">\n              <a href=\"/fast-food/dominos-reports-positive-sales-during-pandemic\" hreflang=\"en\">\n               Domino’s Reports Positive Sales During Pandemic\n              </a>\n             </div>\n            </section>\n           </div>\n           <div class=\"category-card\" id=\"category-card-14\">\n            <section>\n             <h2 class=\"section-heading\">\n              <a href=\"/franchising/communication-key-cousins-ceo-time-crisis\">\n               <a href=\"/franchising\" hreflang=\"en\">\n                Franchising\n               </a>\n              </a>\n             </h2>\n             <div class=\"category-card__primary-image\">\n              <a href=\"/franchising/communication-key-cousins-ceo-time-crisis\">\n               <img alt=\"Cousins Subs' CEO Christine Specht.\" src=\"https://www.qsrmagazine.com/sites/default/files/styles/media_thumbnail/public/2020-03/Christine.jpg?itok=tMQWtxZH\"/>\n              </a>\n             </div>\n             <div class=\"category-card__primary-title\">\n              <a href=\"/franchising/communication-key-cousins-ceo-time-crisis\" hreflang=\"en\">\n               Communication Key to Cousins CEO in Time of Crisis\n              </a>\n             </div>\n             <div class=\"category-card__other-title category-card__other-title-1\">\n              <a href=\"/outside-insights/covid-19-considerations-restaurant-franchise-systems\" hreflang=\"en\">\n               COVID-19 Considerations for Restaurant Franchise Systems\n              </a>\n             </div>\n             <div class=\"category-card__other-title category-card__other-title-2\">\n              <a href=\"/franchising/subway-slash-franchise-royalty-payments-50-percent\" hreflang=\"en\">\n               Subway to Slash Franchise Royalty Payments by 50 Percent\n              </a>\n             </div>\n            </section>\n           </div>\n           <div class=\"category-card\" id=\"category-card-15\">\n            <section>\n             <h2 class=\"section-heading\">\n              <a href=\"/exclusives/heres-how-your-brand-should-prepare-covid-19\">\n               <a href=\"/health-wellness\" hreflang=\"en\">\n                Health &amp; Wellness\n               </a>\n              </a>\n             </h2>\n             <div class=\"category-card__primary-image\">\n              <a href=\"/exclusives/heres-how-your-brand-should-prepare-covid-19\">\n               <img alt=\"Red ceramic teacup in an empty cafe.\" src=\"https://www.qsrmagazine.com/sites/default/files/styles/media_thumbnail/public/2020-03/Cup.jpg?itok=bw_qxPmY\"/>\n              </a>\n             </div>\n             <div class=\"category-card__primary-title\">\n              <a href=\"/exclusives/heres-how-your-brand-should-prepare-covid-19\" hreflang=\"en\">\n               Here’s How Your Brand Should Prepare for COVID-19\n              </a>\n             </div>\n             <div class=\"category-card__other-title category-card__other-title-1\">\n              <a href=\"/fast-casual/sweetgreens-next-big-investment\" hreflang=\"und\">\n               Sweetgreen’s Next Big Investment\n              </a>\n             </div>\n             <div class=\"category-card__other-title category-card__other-title-2\">\n              <a href=\"/menu-innovations/seafood-rides-flexitarian-wave-fast-food\" hreflang=\"und\">\n               Seafood Rides the Flexitarian Wave in Fast Food\n              </a>\n             </div>\n            </section>\n           </div>\n          </div>\n         </div>\n        </div>\n       </ul>\n      </div>\n     </div>\n     <footer role=\"contentinfo\">\n      <div class=\"clear\">\n      </div>\n      <!--<footer>-->\n      <div class=\"tm_footer\">\n       <div class=\"footerin override-background-color\">\n        <div id=\"footer\">\n         <div class=\"container\">\n          <div class=\"logos\">\n           <div class=\"qsr-logo\">\n            <img class=\"qsr_logo\" src=\"/themes/custom/qsr2020/QSR-lg-white.svg\"/>\n           </div>\n           <div class=\"social-logos\">\n            <a class=\"social-link\" href=\"https://www.facebook.com/QSRmagazine\" target=\"_blank\">\n             <i class=\"fab fa-facebook-f social-icon\">\n             </i>\n            </a>\n            <a class=\"social-link\" href=\"https://twitter.com/QSRmagazine\" target=\"_blank\">\n             <i class=\"fab fa-twitter social-icon\">\n             </i>\n            </a>\n            <a class=\"social-link\" href=\"https://www.linkedin.com/company/11125625/\" target=\"_blank\">\n             <i class=\"fab fa-linkedin-in social-icon\">\n             </i>\n            </a>\n            <a class=\"social-link\" href=\"https://www.instagram.com/qsrmagazine/?hl=en\" target=\"_blank\">\n             <i class=\"fab fa-instagram social-icon\">\n             </i>\n            </a>\n           </div>\n          </div>\n          <div class=\"terms\">\n           <div class=\"region region-footer\">\n            <div class=\"col\">\n             <a href=\"/subscribe\">\n              <img alt=\"QSR cover\" src=\"/img-src/current-cover\"/>\n             </a>\n            </div>\n            <nav aria-labelledby=\"block-subscribefootermenu-menu\" class=\"block block-menu navigation menu--subscribe-footer-menu\" id=\"block-subscribefootermenu\" role=\"navigation\">\n             <h2 id=\"block-subscribefootermenu-menu\">\n              Subscribe To QSR\n             </h2>\n             <ul class=\"menu\">\n              <li class=\"menu-item\">\n               <a href=\"/subscribe\">\n                Magazine\n               </a>\n              </li>\n              <li class=\"menu-item\">\n               <a href=\"/renew\">\n                Renew\n               </a>\n              </li>\n              <li class=\"menu-item\">\n               <a href=\"/renew\">\n                Update Your Address\n               </a>\n              </li>\n              <li class=\"menu-item\">\n               <a href=\"/eletter-sub\">\n                E-Letters\n               </a>\n              </li>\n              <li class=\"menu-item\">\n               <a href=\"https://www.foodnewsmedia.com/media-kit/qsr\">\n                Advertise\n               </a>\n              </li>\n             </ul>\n            </nav>\n            <nav aria-labelledby=\"block-foodfootermenu-menu\" class=\"block block-menu navigation menu--food-footer-menu\" id=\"block-foodfootermenu\" role=\"navigation\">\n             <h2 id=\"block-foodfootermenu-menu\">\n              Food\n             </h2>\n             <ul class=\"menu\">\n              <li class=\"menu-item\">\n               <a data-drupal-link-system-path=\"taxonomy/term/525191\" href=\"/beverage\">\n                Beverage\n               </a>\n              </li>\n              <li class=\"menu-item\">\n               <a data-drupal-link-system-path=\"taxonomy/term/525196\" href=\"/breakfast\">\n                Breakfast\n               </a>\n              </li>\n              <li class=\"menu-item\">\n               <a data-drupal-link-system-path=\"taxonomy/term/525201\" href=\"/burgers\">\n                Burgers\n               </a>\n              </li>\n              <li class=\"menu-item\">\n               <a data-drupal-link-system-path=\"taxonomy/term/525206\" href=\"/desserts\">\n                Desserts\n               </a>\n              </li>\n              <li class=\"menu-item\">\n               <a data-drupal-link-system-path=\"taxonomy/term/526511\" href=\"/health-wellness\">\n                Health &amp; Wellness\n               </a>\n              </li>\n              <li class=\"menu-item\">\n               <a data-drupal-link-system-path=\"taxonomy/term/525171\" href=\"/marc-halperin-resident-fb-expert\">\n                Marc Halperin: Resident F&amp;B Expert\n               </a>\n              </li>\n              <li class=\"menu-item\">\n               <a data-drupal-link-system-path=\"taxonomy/term/525166\" href=\"/menu-innovations\">\n                Menu Innovations\n               </a>\n              </li>\n              <li class=\"menu-item\">\n               <a data-drupal-link-system-path=\"taxonomy/term/525211\" href=\"/pizza\">\n                Pizza\n               </a>\n              </li>\n              <li class=\"menu-item\">\n               <a data-drupal-link-system-path=\"taxonomy/term/525216\" href=\"/sandwiches\">\n                Sandwiches\n               </a>\n              </li>\n             </ul>\n            </nav>\n            <nav aria-labelledby=\"block-operationsfootermenu-menu\" class=\"block block-menu navigation menu--operations-footer-menu\" id=\"block-operationsfootermenu\" role=\"navigation\">\n             <h2 id=\"block-operationsfootermenu-menu\">\n              Operations\n             </h2>\n             <ul class=\"menu\">\n              <li class=\"menu-item\">\n               <a data-drupal-link-system-path=\"taxonomy/term/525331\" href=\"/back-house\">\n                Back of House\n               </a>\n              </li>\n              <li class=\"menu-item\">\n               <a data-drupal-link-system-path=\"taxonomy/term/525291\" href=\"/business-advice\">\n                Business Advice\n               </a>\n              </li>\n              <li class=\"menu-item\">\n               <a data-drupal-link-system-path=\"taxonomy/term/525311\" href=\"/charitable-giving\">\n                Charitable Giving\n               </a>\n              </li>\n              <li class=\"menu-item\">\n               <a data-drupal-link-system-path=\"taxonomy/term/525416\" href=\"/customer-experience\">\n                Customer Experience\n               </a>\n              </li>\n              <li class=\"menu-item\">\n               <a data-drupal-link-system-path=\"taxonomy/term/525246\" href=\"/design\">\n                Design\n               </a>\n              </li>\n              <li class=\"menu-item\">\n               <a data-drupal-link-system-path=\"taxonomy/term/525336\" href=\"/drive-thru\">\n                Drive Thru\n               </a>\n              </li>\n              <li class=\"menu-item\">\n               <a data-drupal-link-system-path=\"taxonomy/term/525326\" href=\"/employee-management\">\n                Employee Management\n               </a>\n              </li>\n              <li class=\"menu-item\">\n               <a data-drupal-link-system-path=\"taxonomy/term/525341\" href=\"/legal\">\n                Legal\n               </a>\n              </li>\n              <li class=\"menu-item\">\n               <a data-drupal-link-system-path=\"taxonomy/term/525286\" href=\"/ordering\">\n                Ordering\n               </a>\n              </li>\n              <li class=\"menu-item\">\n               <a data-drupal-link-system-path=\"taxonomy/term/525316\" href=\"/outside-insights\">\n                Outside Insights\n               </a>\n              </li>\n              <li class=\"menu-item\">\n               <a data-drupal-link-system-path=\"taxonomy/term/525301\" href=\"/restaurant-operations\">\n                Restaurant Operations\n               </a>\n              </li>\n              <li class=\"menu-item\">\n               <a data-drupal-link-system-path=\"taxonomy/term/525296\" href=\"/start-finish-what-inspires-execs\">\n                Start to Finish: What Inspires Execs\n               </a>\n              </li>\n              <li class=\"menu-item\">\n               <a data-drupal-link-system-path=\"taxonomy/term/525261\" href=\"/sustainability\">\n                Sustainability\n               </a>\n              </li>\n              <li class=\"menu-item\">\n               <a data-drupal-link-system-path=\"taxonomy/term/526506\" href=\"/technology\">\n                Technology\n               </a>\n              </li>\n             </ul>\n            </nav>\n            <nav aria-labelledby=\"block-growthfootermenu-menu\" class=\"block block-menu navigation menu--growth-footer-menu\" id=\"block-growthfootermenu\" role=\"navigation\">\n             <h2 id=\"block-growthfootermenu-menu\">\n              Growth\n             </h2>\n             <ul class=\"menu\">\n              <li class=\"menu-item\">\n               <a data-drupal-link-system-path=\"taxonomy/term/525306\" href=\"/consumer-trends\">\n                Consumer Trends\n               </a>\n              </li>\n              <li class=\"menu-item\">\n               <a data-drupal-link-system-path=\"taxonomy/term/525241\" href=\"/emerging-concepts\">\n                Emerging Concepts\n               </a>\n              </li>\n              <li class=\"menu-item\">\n               <a data-drupal-link-system-path=\"taxonomy/term/525236\" href=\"/fast-casual\">\n                Fast Casual\n               </a>\n              </li>\n              <li class=\"menu-item\">\n               <a data-drupal-link-system-path=\"taxonomy/term/525251\" href=\"/finance\">\n                Finance\n               </a>\n              </li>\n              <li class=\"menu-item\">\n               <a data-drupal-link-system-path=\"taxonomy/term/525226\" href=\"/franchising\">\n                Franchising\n               </a>\n              </li>\n              <li class=\"menu-item\">\n               <a data-drupal-link-system-path=\"taxonomy/term/525256\" href=\"/marketing-promotions\">\n                Marketing &amp; Promotions\n               </a>\n              </li>\n             </ul>\n            </nav>\n            <nav aria-labelledby=\"block-reportsfootermenu-menu\" class=\"block block-menu navigation menu--reports-footer-menu\" id=\"block-reportsfootermenu\" role=\"navigation\">\n             <h2 id=\"block-reportsfootermenu-menu\">\n              Reports\n             </h2>\n             <ul class=\"menu\">\n              <li class=\"menu-item\">\n               <a href=\"/reports/2019-qsr-50\">\n                QSR 50\n               </a>\n              </li>\n              <li class=\"menu-item\">\n               <a data-drupal-link-system-path=\"node/147650\" href=\"/reports/2019-qsr-drive-thru-study\">\n                Drive-Thru Study\n               </a>\n              </li>\n              <li class=\"menu-item\">\n               <a href=\"/growth/2018-growth-40\">\n                Growth 40\n               </a>\n              </li>\n              <li class=\"menu-item\">\n               <a data-drupal-link-system-path=\"node/145321\" href=\"/reports/4040-list-1\">\n                40/40 List\n               </a>\n              </li>\n              <li class=\"menu-item\">\n               <a data-drupal-link-system-path=\"node/146824\" href=\"/content/9-best-franchise-deals-2019\">\n                Best Franchise Deals\n               </a>\n              </li>\n              <li class=\"menu-item\">\n               <a data-drupal-link-system-path=\"downloads\" href=\"/downloads\">\n                Smart Chain\n               </a>\n              </li>\n              <li class=\"menu-item\">\n               <a data-drupal-link-system-path=\"node/13409\" href=\"/content/franchise-expo\">\n                Franchise Opportunities\n               </a>\n              </li>\n              <li class=\"menu-item\">\n               <a data-drupal-link-system-path=\"onesource\" href=\"/onesource\">\n                Find a Supplier\n               </a>\n              </li>\n             </ul>\n            </nav>\n            <nav aria-labelledby=\"block-eventsfootermenu-menu\" class=\"block block-menu navigation menu--events-footer-menu\" id=\"block-eventsfootermenu\" role=\"navigation\">\n             <h2 id=\"block-eventsfootermenu-menu\">\n              Events\n             </h2>\n             <ul class=\"menu\">\n              <li class=\"menu-item\">\n               <a href=\"/webinars\">\n                Webinars\n               </a>\n              </li>\n              <li class=\"menu-item\">\n               <a data-drupal-link-system-path=\"node/148467\" href=\"/meet-ups\">\n                Fast Casual Meet Ups\n               </a>\n              </li>\n             </ul>\n            </nav>\n           </div>\n          </div>\n          <div class=\"copyright\">\n           Copyright © 2020 Journalistic, Inc. All rights reserved.\n           <i>\n            QSR\n           </i>\n           is a registered trademark of Journalistic, Inc. Please read our\n           <a href=\"/privacy-policy\">\n            privacy policy\n           </a>\n           before submitting data on this web site. Submission of data is acknowledgement of acceptance of our\n           <a href=\"/privacy-policy\">\n            privacy policy.\n           </a>\n           Some aspects of this site are protected by reCAPTCHA and the Google\n           <a href=\"https://policies.google.com/privacy\" rel=\"nofollow\" target=\"_blank\">\n            Privacy Policy\n           </a>\n           and\n           <a href=\"https://policies.google.com/terms\" rel=\"nofollow\" target=\"_blank\">\n            Terms of Service\n           </a>\n           apply.\n          </div>\n         </div>\n        </div>\n       </div>\n      </div>\n      <!--</footer>-->\n      <!-- <div class=\"style-picker\">\n  <div class=\"container bgChanger\"><a href=\"#\" class=\"handler\" title=\"Live Styles Customizer\">&nbsp;</a>\n    <div class=\"options clearfix\">\n\n      <div class=\"cl\"><a href=\"#\" class=\"bgColor\">Color Scheme<span id=\"bgHeaderColor\" title=\"ff8100\" style=\"background-color:#ff8100\">&nbsp;</span></a></div>\n\n    </div>\n  </div>\n</div> -->\n     </footer>\n    </div>\n   </div>\n  </div>\n  <script data-drupal-selector=\"drupal-settings-json\" type=\"application/json\">\n   {\"path\":{\"baseUrl\":\"\\/\",\"scriptPath\":null,\"pathPrefix\":\"\",\"currentPath\":\"node\\/64111\",\"currentPathIsAdmin\":false,\"isFront\":false,\"currentLanguage\":\"en\"},\"pluralDelimiter\":\"\\u0003\",\"suppressDeprecationErrors\":true,\"google_analytics\":{\"trackOutbound\":true,\"trackMailto\":true,\"trackDownload\":true,\"trackDownloadExtensions\":\"7z|aac|arc|arj|asf|asx|avi|bin|csv|doc(x|m)?|dot(x|m)?|exe|flv|gif|gz|gzip|hqx|jar|jpe?g|js|mp(2|3|4|e?g)|mov(ie)?|msi|msp|pdf|phps|png|ppt(x|m)?|pot(x|m)?|pps(x|m)?|ppam|sld(x|m)?|thmx|qtm?|ra(m|r)?|sea|sit|tar|tgz|torrent|txt|wav|wma|wmv|wpd|xls(x|m|b)?|xlt(x|m)|xlam|xml|z|zip\"},\"ajaxTrustedUrl\":{\"form_action_p_pvdeGsVG5zNF_XLGPTvYSKCf43t8qZYSwcfZl2uzM\":true},\"statistics\":{\"data\":{\"nid\":\"64111\"},\"url\":\"\\/core\\/modules\\/statistics\\/statistics.php\"},\"superfish\":{\"superfish-header-menu\":{\"id\":\"superfish-header-menu\",\"sf\":{\"animation\":{\"opacity\":\"show\",\"height\":\"show\"},\"speed\":\"fast\"},\"plugins\":{\"smallscreen\":{\"mode\":\"window_width\",\"title\":\"Header Menu\"},\"supposition\":true,\"supersubs\":true}}},\"webfonts\":{\"is_active\":false},\"ad_control_panel\":{\"exclusivity\":0,\"priority\":\"interstitial\",\"session_limit\":1,\"prestitial_excluded\":false},\"user\":{\"uid\":0,\"permissionsHash\":\"00c9088bb1ccc88c05e0fdfb5d1629bdc7524173d76ae4ee5af303779cccb0c4\"}}\n  </script>\n  <script src=\"/sites/default/files/js/js_b1EJzB5EI4fZhJP34vavSmsZvG3FJ6T65iHeY1O6KMk.js\">\n  </script>\n  <script src=\"https://ajax.googleapis.com/ajax/libs/webfont/1.6.26/webfont.js\">\n  </script>\n  <script src=\"/sites/default/files/js/js_QXgaUpV1MIstrRB6AhOEP-43qBpIucrQkhu1XwRzXiY.js\">\n  </script>\n  <script type=\"text/javascript\">\n   window.NREUM||(NREUM={});NREUM.info={\"beacon\":\"bam.nr-data.net\",\"licenseKey\":\"NRJS-2fca3af1d16ddfeabea\",\"applicationID\":\"556389158\",\"transactionName\":\"Zl0HYkFWWxVVV0AMW18XJFVHXloIG3BGEERQVDl1XEVQOnJbRghod1cXW3FCXApQUUZICkNdC1JWRWUKVVdRDVtdXABEdVhHC3VXQAxbXw==\",\"queueTime\":0,\"applicationTime\":836,\"atts\":\"ShoEFAlMSBs=\",\"errorBeacon\":\"bam.nr-data.net\",\"agent\":\"\"}\n  </script>\n </body>\n</html>\n\n"
    }
   ],
   "source": [
    "# Examine the results, then determine element that contains sought info\n",
    "print(soup.prettify())"
   ]
  },
  {
   "cell_type": "code",
   "execution_count": 6,
   "metadata": {},
   "outputs": [],
   "source": [
    "chart = soup.find(id=\"block-qsr2020-content\")\n",
    "data_company = [dc.get_text() for dc in chart.select(\".sortable-chart-container .data-chain\")]\n",
    "data_category = [dct.get_text() for dct in chart.select(\".sortable-chart-container .data-segment\")]\n",
    "all_sales = [als.get_text() for als in chart.select(\".sortable-chart-container .data-2012_sales\")]\n",
    "avg_sales = [avs.get_text() for avs in chart.select(\".sortable-chart-container .data-2012_avg_sales\")]\n",
    "franchise_units = [fu.get_text() for fu in chart.select(\".sortable-chart-container .data-2012_franchise_units\")]\n",
    "company_units = [cu.get_text() for cu in chart.select(\".sortable-chart-container .data-2012_company_units\")]\n",
    "total_units = [tu.get_text() for tu in chart.select(\".sortable-chart-container .data-2012_total_units\")]"
   ]
  },
  {
   "cell_type": "code",
   "execution_count": 7,
   "metadata": {},
   "outputs": [],
   "source": [
    "import pandas as pd\n",
    "restaurants2012 = pd.DataFrame({\n",
    "    \"Company\": data_company,\n",
    "    \"Category\": data_category,\n",
    "    \"Systemwide_Sales_Millions\": all_sales,\n",
    "    \"Avg_Sales_per_Unit_Thousands\": avg_sales,\n",
    "    \"Franchise_Units\": franchise_units,\n",
    "    \"Company_Units\": company_units,\n",
    "    \"Total_Units\": total_units\n",
    "})"
   ]
  },
  {
   "cell_type": "code",
   "execution_count": 8,
   "metadata": {},
   "outputs": [
    {
     "output_type": "execute_result",
     "data": {
      "text/plain": "                  Company  Category Systemwide_Sales_Millions  \\\n0              McDonald's    burger                 $35,600.0   \n1                 Subway*  sandwich                 $12,100.0   \n2  Starbucks*<sup>1</sup>     snack                 $10,600.0   \n3     Wendy's<sup>2</sup>    burger                  $8,600.0   \n4            Burger King*    burger                  $8,587.0   \n\n  Avg_Sales_per_Unit_Thousands Franchise_Units Company_Units Total_Units  \n0                     $2,600.0          12,605         1,552      14,157  \n1                       $481.0          25,549             0      25,549  \n2                     $1,223.0           4,262         6,866      11,128  \n3                     $1,483.8           4,528         1,289       5,817  \n4                     $1,195.0           7,000           183       7,183  ",
      "text/html": "<div>\n<style scoped>\n    .dataframe tbody tr th:only-of-type {\n        vertical-align: middle;\n    }\n\n    .dataframe tbody tr th {\n        vertical-align: top;\n    }\n\n    .dataframe thead th {\n        text-align: right;\n    }\n</style>\n<table border=\"1\" class=\"dataframe\">\n  <thead>\n    <tr style=\"text-align: right;\">\n      <th></th>\n      <th>Company</th>\n      <th>Category</th>\n      <th>Systemwide_Sales_Millions</th>\n      <th>Avg_Sales_per_Unit_Thousands</th>\n      <th>Franchise_Units</th>\n      <th>Company_Units</th>\n      <th>Total_Units</th>\n    </tr>\n  </thead>\n  <tbody>\n    <tr>\n      <td>0</td>\n      <td>McDonald's</td>\n      <td>burger</td>\n      <td>$35,600.0</td>\n      <td>$2,600.0</td>\n      <td>12,605</td>\n      <td>1,552</td>\n      <td>14,157</td>\n    </tr>\n    <tr>\n      <td>1</td>\n      <td>Subway*</td>\n      <td>sandwich</td>\n      <td>$12,100.0</td>\n      <td>$481.0</td>\n      <td>25,549</td>\n      <td>0</td>\n      <td>25,549</td>\n    </tr>\n    <tr>\n      <td>2</td>\n      <td>Starbucks*&lt;sup&gt;1&lt;/sup&gt;</td>\n      <td>snack</td>\n      <td>$10,600.0</td>\n      <td>$1,223.0</td>\n      <td>4,262</td>\n      <td>6,866</td>\n      <td>11,128</td>\n    </tr>\n    <tr>\n      <td>3</td>\n      <td>Wendy's&lt;sup&gt;2&lt;/sup&gt;</td>\n      <td>burger</td>\n      <td>$8,600.0</td>\n      <td>$1,483.8</td>\n      <td>4,528</td>\n      <td>1,289</td>\n      <td>5,817</td>\n    </tr>\n    <tr>\n      <td>4</td>\n      <td>Burger King*</td>\n      <td>burger</td>\n      <td>$8,587.0</td>\n      <td>$1,195.0</td>\n      <td>7,000</td>\n      <td>183</td>\n      <td>7,183</td>\n    </tr>\n  </tbody>\n</table>\n</div>"
     },
     "metadata": {},
     "execution_count": 8
    }
   ],
   "source": [
    "restaurants2012.head()"
   ]
  },
  {
   "cell_type": "code",
   "execution_count": 9,
   "metadata": {},
   "outputs": [],
   "source": [
    "# transform data by setting the index\n",
    "transformed_restaurants2012 = restaurants2012.copy()"
   ]
  },
  {
   "cell_type": "code",
   "execution_count": 10,
   "metadata": {},
   "outputs": [
    {
     "output_type": "execute_result",
     "data": {
      "text/plain": "True"
     },
     "metadata": {},
     "execution_count": 10
    }
   ],
   "source": [
    "transformed_restaurants2012[\"Company\"].is_unique"
   ]
  },
  {
   "cell_type": "code",
   "execution_count": 11,
   "metadata": {},
   "outputs": [
    {
     "output_type": "execute_result",
     "data": {
      "text/plain": "                  Company  Category Systemwide_Sales_Millions  \\\n0              McDonald's    burger                 $35,600.0   \n1                 Subway*  sandwich                 $12,100.0   \n2  Starbucks*<sup>1</sup>     snack                 $10,600.0   \n3     Wendy's<sup>2</sup>    burger                  $8,600.0   \n4            Burger King*    burger                  $8,587.0   \n\n  Avg_Sales_per_Unit_Thousands Franchise_Units Company_Units Total_Units  \n0                     $2,600.0          12,605         1,552      14,157  \n1                       $481.0          25,549             0      25,549  \n2                     $1,223.0           4,262         6,866      11,128  \n3                     $1,483.8           4,528         1,289       5,817  \n4                     $1,195.0           7,000           183       7,183  ",
      "text/html": "<div>\n<style scoped>\n    .dataframe tbody tr th:only-of-type {\n        vertical-align: middle;\n    }\n\n    .dataframe tbody tr th {\n        vertical-align: top;\n    }\n\n    .dataframe thead th {\n        text-align: right;\n    }\n</style>\n<table border=\"1\" class=\"dataframe\">\n  <thead>\n    <tr style=\"text-align: right;\">\n      <th></th>\n      <th>Company</th>\n      <th>Category</th>\n      <th>Systemwide_Sales_Millions</th>\n      <th>Avg_Sales_per_Unit_Thousands</th>\n      <th>Franchise_Units</th>\n      <th>Company_Units</th>\n      <th>Total_Units</th>\n    </tr>\n  </thead>\n  <tbody>\n    <tr>\n      <td>0</td>\n      <td>McDonald's</td>\n      <td>burger</td>\n      <td>$35,600.0</td>\n      <td>$2,600.0</td>\n      <td>12,605</td>\n      <td>1,552</td>\n      <td>14,157</td>\n    </tr>\n    <tr>\n      <td>1</td>\n      <td>Subway*</td>\n      <td>sandwich</td>\n      <td>$12,100.0</td>\n      <td>$481.0</td>\n      <td>25,549</td>\n      <td>0</td>\n      <td>25,549</td>\n    </tr>\n    <tr>\n      <td>2</td>\n      <td>Starbucks*&lt;sup&gt;1&lt;/sup&gt;</td>\n      <td>snack</td>\n      <td>$10,600.0</td>\n      <td>$1,223.0</td>\n      <td>4,262</td>\n      <td>6,866</td>\n      <td>11,128</td>\n    </tr>\n    <tr>\n      <td>3</td>\n      <td>Wendy's&lt;sup&gt;2&lt;/sup&gt;</td>\n      <td>burger</td>\n      <td>$8,600.0</td>\n      <td>$1,483.8</td>\n      <td>4,528</td>\n      <td>1,289</td>\n      <td>5,817</td>\n    </tr>\n    <tr>\n      <td>4</td>\n      <td>Burger King*</td>\n      <td>burger</td>\n      <td>$8,587.0</td>\n      <td>$1,195.0</td>\n      <td>7,000</td>\n      <td>183</td>\n      <td>7,183</td>\n    </tr>\n  </tbody>\n</table>\n</div>"
     },
     "metadata": {},
     "execution_count": 11
    }
   ],
   "source": [
    "transformed_restaurants2012.head()"
   ]
  },
  {
   "cell_type": "code",
   "execution_count": 12,
   "metadata": {},
   "outputs": [],
   "source": [
    "transformed_restaurants2012 = transformed_restaurants2012.assign(id=(transformed_restaurants2012['Company']).astype('category').cat.codes)\n",
    "# transformed_restaurants    "
   ]
  },
  {
   "cell_type": "code",
   "execution_count": 13,
   "metadata": {},
   "outputs": [
    {
     "output_type": "execute_result",
     "data": {
      "text/plain": "object    7\nint8      1\ndtype: int64"
     },
     "metadata": {},
     "execution_count": 13
    }
   ],
   "source": [
    "transformed_restaurants2012.get_dtype_counts()"
   ]
  },
  {
   "cell_type": "code",
   "execution_count": 14,
   "metadata": {},
   "outputs": [
    {
     "output_type": "execute_result",
     "data": {
      "text/plain": "Series([], Name: Systemwide_Sales_Millions, dtype: object)"
     },
     "metadata": {},
     "execution_count": 14
    }
   ],
   "source": [
    "transformed_restaurants2012.loc[\"McDonald's\" : , \"Systemwide_Sales_Millions\"]\n",
    ""
   ]
  },
  {
   "cell_type": "code",
   "execution_count": 15,
   "metadata": {},
   "outputs": [
    {
     "output_type": "execute_result",
     "data": {
      "text/plain": "False"
     },
     "metadata": {},
     "execution_count": 15
    }
   ],
   "source": [
    "extr = transformed_restaurants2012[\"Systemwide_Sales_Millions\"]\n",
    "type(extr) is tuple"
   ]
  },
  {
   "cell_type": "code",
   "execution_count": 16,
   "metadata": {},
   "outputs": [
    {
     "output_type": "execute_result",
     "data": {
      "text/plain": "                  Company  Category Systemwide_Sales_Millions  \\\n0              McDonald's    burger                 $35,600.0   \n1                 Subway*  sandwich                 $12,100.0   \n2  Starbucks*<sup>1</sup>     snack                 $10,600.0   \n3     Wendy's<sup>2</sup>    burger                  $8,600.0   \n4            Burger King*    burger                  $8,587.0   \n\n  Avg_Sales_per_Unit_Thousands Franchise_Units Company_Units Total_Units  id  \n0                     $2,600.0          12,605         1,552      14,157  29  \n1                       $481.0          25,549             0      25,549  42  \n2                     $1,223.0           4,262         6,866      11,128  40  \n3                     $1,483.8           4,528         1,289       5,817  45  \n4                     $1,195.0           7,000           183       7,183   4  ",
      "text/html": "<div>\n<style scoped>\n    .dataframe tbody tr th:only-of-type {\n        vertical-align: middle;\n    }\n\n    .dataframe tbody tr th {\n        vertical-align: top;\n    }\n\n    .dataframe thead th {\n        text-align: right;\n    }\n</style>\n<table border=\"1\" class=\"dataframe\">\n  <thead>\n    <tr style=\"text-align: right;\">\n      <th></th>\n      <th>Company</th>\n      <th>Category</th>\n      <th>Systemwide_Sales_Millions</th>\n      <th>Avg_Sales_per_Unit_Thousands</th>\n      <th>Franchise_Units</th>\n      <th>Company_Units</th>\n      <th>Total_Units</th>\n      <th>id</th>\n    </tr>\n  </thead>\n  <tbody>\n    <tr>\n      <td>0</td>\n      <td>McDonald's</td>\n      <td>burger</td>\n      <td>$35,600.0</td>\n      <td>$2,600.0</td>\n      <td>12,605</td>\n      <td>1,552</td>\n      <td>14,157</td>\n      <td>29</td>\n    </tr>\n    <tr>\n      <td>1</td>\n      <td>Subway*</td>\n      <td>sandwich</td>\n      <td>$12,100.0</td>\n      <td>$481.0</td>\n      <td>25,549</td>\n      <td>0</td>\n      <td>25,549</td>\n      <td>42</td>\n    </tr>\n    <tr>\n      <td>2</td>\n      <td>Starbucks*&lt;sup&gt;1&lt;/sup&gt;</td>\n      <td>snack</td>\n      <td>$10,600.0</td>\n      <td>$1,223.0</td>\n      <td>4,262</td>\n      <td>6,866</td>\n      <td>11,128</td>\n      <td>40</td>\n    </tr>\n    <tr>\n      <td>3</td>\n      <td>Wendy's&lt;sup&gt;2&lt;/sup&gt;</td>\n      <td>burger</td>\n      <td>$8,600.0</td>\n      <td>$1,483.8</td>\n      <td>4,528</td>\n      <td>1,289</td>\n      <td>5,817</td>\n      <td>45</td>\n    </tr>\n    <tr>\n      <td>4</td>\n      <td>Burger King*</td>\n      <td>burger</td>\n      <td>$8,587.0</td>\n      <td>$1,195.0</td>\n      <td>7,000</td>\n      <td>183</td>\n      <td>7,183</td>\n      <td>4</td>\n    </tr>\n  </tbody>\n</table>\n</div>"
     },
     "metadata": {},
     "execution_count": 16
    }
   ],
   "source": [
    "transformed_restaurants2012[\"Company\"] = transformed_restaurants2012[\"Company\"].str.strip()\n",
    "transformed_restaurants2012[\"Category\"] = transformed_restaurants2012[\"Category\"].str.strip()\n",
    "transformed_restaurants2012[\"Systemwide_Sales_Millions\"] = transformed_restaurants2012[\"Systemwide_Sales_Millions\"].str.strip()\n",
    "transformed_restaurants2012[\"Avg_Sales_per_Unit_Thousands\"] = transformed_restaurants2012[\"Avg_Sales_per_Unit_Thousands\"].str.strip()\n",
    "transformed_restaurants2012[\"Franchise_Units\"] = transformed_restaurants2012[\"Franchise_Units\"].str.strip()\n",
    "transformed_restaurants2012[\"Company_Units\"] = transformed_restaurants2012[\"Company_Units\"].str.strip()\n",
    "transformed_restaurants2012[\"Total_Units\"] = transformed_restaurants2012[\"Total_Units\"].str.strip()\n",
    "transformed_restaurants2012.head()"
   ]
  },
  {
   "cell_type": "code",
   "execution_count": 17,
   "metadata": {},
   "outputs": [],
   "source": [
    "transformed_restaurants2012[\"Systemwide_Sales_Millions\"] = transformed_restaurants2012[\"Systemwide_Sales_Millions\"].str.replace('$','',regex=False)\n",
    "transformed_restaurants2012[\"Systemwide_Sales_Millions\"] = transformed_restaurants2012[\"Systemwide_Sales_Millions\"].str.replace(',','',regex=False).astype(float)\n",
    "transformed_restaurants2012[\"Avg_Sales_per_Unit_Thousands\"] = transformed_restaurants2012[\"Avg_Sales_per_Unit_Thousands\"].str.replace('$','',regex=False)\n",
    "transformed_restaurants2012[\"Avg_Sales_per_Unit_Thousands\"] = transformed_restaurants2012[\"Avg_Sales_per_Unit_Thousands\"].str.replace(',','',regex=False).astype(float)\n",
    "transformed_restaurants2012[\"Franchise_Units\"] = transformed_restaurants2012[\"Franchise_Units\"].str.replace(',','',regex=False).astype(float)\n",
    "transformed_restaurants2012[\"Company_Units\"] = transformed_restaurants2012[\"Company_Units\"].str.replace(',','',regex=False).astype(float)\n",
    "transformed_restaurants2012[\"Total_Units\"] = transformed_restaurants2012[\"Total_Units\"].str.replace(',','',regex=False).astype(float)\n",
    "transformed_restaurants2012[\"Company\"] = transformed_restaurants2012[\"Company\"].str.replace('<sup>1</sup>','',regex=False)\n",
    "transformed_restaurants2012[\"Company\"] = transformed_restaurants2012[\"Company\"].str.replace('<sup>2</sup>','',regex=False)\n",
    "transformed_restaurants2012[\"Company\"] = transformed_restaurants2012[\"Company\"].str.replace('*','',regex=False)"
   ]
  },
  {
   "cell_type": "code",
   "execution_count": 18,
   "metadata": {},
   "outputs": [
    {
     "output_type": "execute_result",
     "data": {
      "text/plain": "       Company  Category  Systemwide_Sales_Millions  \\\n0   McDonald's    burger                    35600.0   \n1       Subway  sandwich                    12100.0   \n2    Starbucks     snack                    10600.0   \n3      Wendy's    burger                     8600.0   \n4  Burger King    burger                     8587.0   \n\n   Avg_Sales_per_Unit_Thousands  Franchise_Units  Company_Units  Total_Units  \\\n0                        2600.0          12605.0         1552.0      14157.0   \n1                         481.0          25549.0            0.0      25549.0   \n2                        1223.0           4262.0         6866.0      11128.0   \n3                        1483.8           4528.0         1289.0       5817.0   \n4                        1195.0           7000.0          183.0       7183.0   \n\n   id  \n0  29  \n1  42  \n2  40  \n3  45  \n4   4  ",
      "text/html": "<div>\n<style scoped>\n    .dataframe tbody tr th:only-of-type {\n        vertical-align: middle;\n    }\n\n    .dataframe tbody tr th {\n        vertical-align: top;\n    }\n\n    .dataframe thead th {\n        text-align: right;\n    }\n</style>\n<table border=\"1\" class=\"dataframe\">\n  <thead>\n    <tr style=\"text-align: right;\">\n      <th></th>\n      <th>Company</th>\n      <th>Category</th>\n      <th>Systemwide_Sales_Millions</th>\n      <th>Avg_Sales_per_Unit_Thousands</th>\n      <th>Franchise_Units</th>\n      <th>Company_Units</th>\n      <th>Total_Units</th>\n      <th>id</th>\n    </tr>\n  </thead>\n  <tbody>\n    <tr>\n      <td>0</td>\n      <td>McDonald's</td>\n      <td>burger</td>\n      <td>35600.0</td>\n      <td>2600.0</td>\n      <td>12605.0</td>\n      <td>1552.0</td>\n      <td>14157.0</td>\n      <td>29</td>\n    </tr>\n    <tr>\n      <td>1</td>\n      <td>Subway</td>\n      <td>sandwich</td>\n      <td>12100.0</td>\n      <td>481.0</td>\n      <td>25549.0</td>\n      <td>0.0</td>\n      <td>25549.0</td>\n      <td>42</td>\n    </tr>\n    <tr>\n      <td>2</td>\n      <td>Starbucks</td>\n      <td>snack</td>\n      <td>10600.0</td>\n      <td>1223.0</td>\n      <td>4262.0</td>\n      <td>6866.0</td>\n      <td>11128.0</td>\n      <td>40</td>\n    </tr>\n    <tr>\n      <td>3</td>\n      <td>Wendy's</td>\n      <td>burger</td>\n      <td>8600.0</td>\n      <td>1483.8</td>\n      <td>4528.0</td>\n      <td>1289.0</td>\n      <td>5817.0</td>\n      <td>45</td>\n    </tr>\n    <tr>\n      <td>4</td>\n      <td>Burger King</td>\n      <td>burger</td>\n      <td>8587.0</td>\n      <td>1195.0</td>\n      <td>7000.0</td>\n      <td>183.0</td>\n      <td>7183.0</td>\n      <td>4</td>\n    </tr>\n  </tbody>\n</table>\n</div>"
     },
     "metadata": {},
     "execution_count": 18
    }
   ],
   "source": [
    "transformed_restaurants2012.head()"
   ]
  },
  {
   "cell_type": "code",
   "execution_count": 19,
   "metadata": {},
   "outputs": [],
   "source": [
    "import sqlite3"
   ]
  },
  {
   "cell_type": "code",
   "execution_count": 20,
   "metadata": {},
   "outputs": [],
   "source": [
    "conn = sqlite3.connect('restaurants2012.sqlite')\n",
    "c = conn.cursor()"
   ]
  },
  {
   "cell_type": "code",
   "execution_count": 21,
   "metadata": {},
   "outputs": [],
   "source": [
    "c.execute('CREATE TABLE rest_table (Company text, Category text, Systemwide_Sales_Millions number, Avg_Sales_per_Unit_Thousands number, Franchise_Units number, Company_Units number, Total_Units number, [id] number PRIMARY KEY)')\n",
    "conn.commit()"
   ]
  },
  {
   "cell_type": "code",
   "execution_count": 22,
   "metadata": {},
   "outputs": [],
   "source": [
    "transformed_restaurants2012.to_sql('rest_table', conn, if_exists='replace', index=False)"
   ]
  },
  {
   "cell_type": "code",
   "execution_count": 23,
   "metadata": {},
   "outputs": [
    {
     "output_type": "execute_result",
     "data": {
      "text/plain": "<sqlite3.Cursor at 0x203ee71d570>"
     },
     "metadata": {},
     "execution_count": 23
    }
   ],
   "source": [
    "c.execute('''  \n",
    "SELECT * FROM rest_table\n",
    "          ''')"
   ]
  },
  {
   "cell_type": "code",
   "execution_count": 24,
   "metadata": {},
   "outputs": [
    {
     "output_type": "stream",
     "name": "stdout",
     "text": "(\"McDonald's\", 'burger', 35600.0, 2600.0, 12605.0, 1552.0, 14157.0, 29)\n('Subway', 'sandwich', 12100.0, 481.0, 25549.0, 0.0, 25549.0, 42)\n('Starbucks', 'snack', 10600.0, 1223.0, 4262.0, 6866.0, 11128.0, 40)\n(\"Wendy's\", 'burger', 8600.0, 1483.8, 4528.0, 1289.0, 5817.0, 45)\n('Burger King', 'burger', 8587.0, 1195.0, 7000.0, 183.0, 7183.0, 4)\n('Taco Bell', 'mexican', 7478.0, 1363.0, 4218.0, 1044.0, 5262.0, 43)\n(\"Dunkin' Donuts\", 'snack', 6264.2, 857.4, 7278.0, 28.0, 7306.0, 16)\n('Pizza Hut', 'pizza/pasta', 5666.0, 883.0, 5757.0, 452.0, 6209.0, 35)\n('Chick-fil-A', 'chicken', 4621.1, 3157.9, 1391.0, 292.0, 1683.0, 8)\n('KFC', 'chicken', 4459.0, 957.0, 4319.0, 237.0, 4556.0, 25)\n('Panera Bread', 'sandwich', 3861.0, 2427.2, 843.0, 809.0, 1652.0, 32)\n('Sonic Drive-In', 'burger', 3790.7, 1074.0, 3147.0, 409.0, 3556.0, 39)\n(\"Domino's Pizza\", 'pizza/pasta', 3500.0, 710.2, 4540.0, 388.0, 4928.0, 15)\n('Jack in the Box', 'burger', 3084.9, 1379.0, 1703.0, 547.0, 2250.0, 21)\n(\"Arby's\", 'sandwich', 2992.0, 993.2, 2343.0, 1011.0, 3354.0, 0)\n('Chipotle Mexican Grill', 'mexican', 2731.2, 2113.0, 0.0, 1410.0, 1410.0, 9)\n(\"Papa John's\", 'pizza/pasta', 2402.4, 829.0, 2483.0, 648.0, 3131.0, 33)\n('Dairy Queen', 'burger', 2300.0, 545.0, 4459.0, 3.0, 4462.0, 13)\n('Popeyes Louisiana Kitchen', 'chicken', 2253.0, 1242.0, 1634.0, 45.0, 1679.0, 36)\n(\"Hardee's\", 'burger', 1900.0, 1145.0, 1233.0, 470.0, 1703.0, 19)\n('Panda Express', 'asian', 1797.4, 1237.0, 47.0, 1486.0, 1533.0, 31)\n('Little Caesars', 'pizza/pasta', 1684.0, 465.0, 3175.0, 550.0, 3725.0, 27)\n('Whataburger', 'burger', 1476.8, 1996.0, 119.0, 621.0, 740.0, 46)\n(\"Carl's Jr.\", 'burger', 1400.0, 1470.0, 697.0, 427.0, 1124.0, 6)\n(\"Jimmy John's\", 'sandwich', 1262.8, 878.8, 1534.0, 26.0, 1560.0, 24)\n('Five Guys Burgers & Fries', 'burger', 1082.7, 1049.0, 850.0, 255.0, 1105.0, 18)\n(\"Zaxby's\", 'chicken', 979.3, 1765.7, 467.0, 98.0, 565.0, 49)\n(\"Church's Chicken\", 'chicken', 869.9, 706.5, 944.0, 258.0, 1202.0, 10)\n(\"Bojangles'\", 'chicken', 864.5, 1717.5, 325.0, 211.0, 536.0, 2)\n(\"Steak 'n Shake\", 'burger', 857.5, 1700.0, 87.0, 414.0, 501.0, 41)\n(\"Culver's\", 'burger', 838.8, 1837.5, 463.0, 9.0, 472.0, 12)\n('Quiznos', 'sandwich', 838.0, 345.0, 2349.0, 4.0, 2353.0, 38)\n(\"Papa Murphy's\", 'pizza/pasta', 738.0, 574.9, 1270.0, 59.0, 1329.0, 34)\n(\"Long John Silver's\", 'seafood', 723.0, 794.0, 911.0, 0.0, 911.0, 28)\n(\"Checkers/Rally's\", 'burger', 696.9, 903.4, 455.0, 321.0, 776.0, 7)\n('White Castle', 'burger', 618.5, 1284.2, 0.0, 406.0, 406.0, 47)\n('Del Taco', 'mexican', 607.9, 1100.0, 253.0, 298.0, 551.0, 14)\n('Qdoba Mexican Grill', 'mexican', 583.2, 966.0, 311.0, 316.0, 627.0, 37)\n(\"Jason's Deli\", 'sandwich', 578.9, 2556.4, 101.0, 144.0, 245.0, 23)\n('Krispy Kreme', 'snack', 569.4, 2428.0, 142.0, 97.0, 239.0, 26)\n('El Pollo Loco', 'chicken', 563.0, 1475.0, 232.0, 165.0, 397.0, 17)\n('Boston Market', 'chicken', 559.0, 1184.0, 0.0, 469.0, 469.0, 3)\n('Tim Hortons', 'snack', 532.2, 1095.0, 800.0, 4.0, 804.0, 44)\n('In-N-Out Burger', 'burger', 528.0, 1935.0, 0.0, 280.0, 280.0, 20)\n('Baskin-Robbins', 'snack', 510.0, 207.1, 2456.0, 7.0, 2463.0, 1)\n(\"CiCi's Pizza\", 'pizza/pasta', 505.0, 915.0, 540.0, 10.0, 550.0, 11)\n(\"Captain D's\", 'seafood', 467.1, 903.0, 239.0, 278.0, 517.0, 5)\n(\"Moe's Southwest Grill\", 'mexican', 452.0, 1102.5, 478.0, 4.0, 482.0, 30)\n('Wingstop', 'chicken', 450.9, 902.0, 510.0, 23.0, 533.0, 48)\n('Jamba Juice', 'snack', 450.0, 714.7, 473.0, 301.0, 774.0, 22)\n"
    }
   ],
   "source": [
    "for row in c.fetchall():\n",
    "    print (row)"
   ]
  },
  {
   "cell_type": "code",
   "execution_count": 25,
   "metadata": {},
   "outputs": [
    {
     "output_type": "execute_result",
     "data": {
      "text/plain": "       Company  Category  Systemwide_Sales_Millions  \\\n0   McDonald's    burger                    35600.0   \n1       Subway  sandwich                    12100.0   \n2    Starbucks     snack                    10600.0   \n3      Wendy's    burger                     8600.0   \n4  Burger King    burger                     8587.0   \n\n   Avg_Sales_per_Unit_Thousands  Franchise_Units  Company_Units  Total_Units  \\\n0                        2600.0          12605.0         1552.0      14157.0   \n1                         481.0          25549.0            0.0      25549.0   \n2                        1223.0           4262.0         6866.0      11128.0   \n3                        1483.8           4528.0         1289.0       5817.0   \n4                        1195.0           7000.0          183.0       7183.0   \n\n   id  \n0  29  \n1  42  \n2  40  \n3  45  \n4   4  ",
      "text/html": "<div>\n<style scoped>\n    .dataframe tbody tr th:only-of-type {\n        vertical-align: middle;\n    }\n\n    .dataframe tbody tr th {\n        vertical-align: top;\n    }\n\n    .dataframe thead th {\n        text-align: right;\n    }\n</style>\n<table border=\"1\" class=\"dataframe\">\n  <thead>\n    <tr style=\"text-align: right;\">\n      <th></th>\n      <th>Company</th>\n      <th>Category</th>\n      <th>Systemwide_Sales_Millions</th>\n      <th>Avg_Sales_per_Unit_Thousands</th>\n      <th>Franchise_Units</th>\n      <th>Company_Units</th>\n      <th>Total_Units</th>\n      <th>id</th>\n    </tr>\n  </thead>\n  <tbody>\n    <tr>\n      <td>0</td>\n      <td>McDonald's</td>\n      <td>burger</td>\n      <td>35600.0</td>\n      <td>2600.0</td>\n      <td>12605.0</td>\n      <td>1552.0</td>\n      <td>14157.0</td>\n      <td>29</td>\n    </tr>\n    <tr>\n      <td>1</td>\n      <td>Subway</td>\n      <td>sandwich</td>\n      <td>12100.0</td>\n      <td>481.0</td>\n      <td>25549.0</td>\n      <td>0.0</td>\n      <td>25549.0</td>\n      <td>42</td>\n    </tr>\n    <tr>\n      <td>2</td>\n      <td>Starbucks</td>\n      <td>snack</td>\n      <td>10600.0</td>\n      <td>1223.0</td>\n      <td>4262.0</td>\n      <td>6866.0</td>\n      <td>11128.0</td>\n      <td>40</td>\n    </tr>\n    <tr>\n      <td>3</td>\n      <td>Wendy's</td>\n      <td>burger</td>\n      <td>8600.0</td>\n      <td>1483.8</td>\n      <td>4528.0</td>\n      <td>1289.0</td>\n      <td>5817.0</td>\n      <td>45</td>\n    </tr>\n    <tr>\n      <td>4</td>\n      <td>Burger King</td>\n      <td>burger</td>\n      <td>8587.0</td>\n      <td>1195.0</td>\n      <td>7000.0</td>\n      <td>183.0</td>\n      <td>7183.0</td>\n      <td>4</td>\n    </tr>\n  </tbody>\n</table>\n</div>"
     },
     "metadata": {},
     "execution_count": 25
    }
   ],
   "source": [
    "transformed_restaurants2012.head()"
   ]
  },
  {
   "cell_type": "code",
   "execution_count": 26,
   "metadata": {},
   "outputs": [
    {
     "output_type": "execute_result",
     "data": {
      "text/plain": "       Company Category  Systemwide_Sales_Millions  \\\n0   McDonald's   burger                    35600.0   \n3      Wendy's   burger                     8600.0   \n4  Burger King   burger                     8587.0   \n\n   Avg_Sales_per_Unit_Thousands  Franchise_Units  Company_Units  Total_Units  \\\n0                        2600.0          12605.0         1552.0      14157.0   \n3                        1483.8           4528.0         1289.0       5817.0   \n4                        1195.0           7000.0          183.0       7183.0   \n\n   id  \n0  29  \n3  45  \n4   4  ",
      "text/html": "<div>\n<style scoped>\n    .dataframe tbody tr th:only-of-type {\n        vertical-align: middle;\n    }\n\n    .dataframe tbody tr th {\n        vertical-align: top;\n    }\n\n    .dataframe thead th {\n        text-align: right;\n    }\n</style>\n<table border=\"1\" class=\"dataframe\">\n  <thead>\n    <tr style=\"text-align: right;\">\n      <th></th>\n      <th>Company</th>\n      <th>Category</th>\n      <th>Systemwide_Sales_Millions</th>\n      <th>Avg_Sales_per_Unit_Thousands</th>\n      <th>Franchise_Units</th>\n      <th>Company_Units</th>\n      <th>Total_Units</th>\n      <th>id</th>\n    </tr>\n  </thead>\n  <tbody>\n    <tr>\n      <td>0</td>\n      <td>McDonald's</td>\n      <td>burger</td>\n      <td>35600.0</td>\n      <td>2600.0</td>\n      <td>12605.0</td>\n      <td>1552.0</td>\n      <td>14157.0</td>\n      <td>29</td>\n    </tr>\n    <tr>\n      <td>3</td>\n      <td>Wendy's</td>\n      <td>burger</td>\n      <td>8600.0</td>\n      <td>1483.8</td>\n      <td>4528.0</td>\n      <td>1289.0</td>\n      <td>5817.0</td>\n      <td>45</td>\n    </tr>\n    <tr>\n      <td>4</td>\n      <td>Burger King</td>\n      <td>burger</td>\n      <td>8587.0</td>\n      <td>1195.0</td>\n      <td>7000.0</td>\n      <td>183.0</td>\n      <td>7183.0</td>\n      <td>4</td>\n    </tr>\n  </tbody>\n</table>\n</div>"
     },
     "metadata": {},
     "execution_count": 26
    }
   ],
   "source": [
    "# Creating dataframe that shows only Burger Category \n",
    "burgers = transformed_restaurants2012.loc[transformed_restaurants2012[\"Category\"]==\"burger\",]\n",
    "top_burgers = burgers.iloc[:3]\n",
    "top_burgers"
   ]
  },
  {
   "cell_type": "code",
   "execution_count": 27,
   "metadata": {},
   "outputs": [
    {
     "output_type": "execute_result",
     "data": {
      "text/plain": "                      Company Category  Systemwide_Sales_Millions  \\\n8                 Chick-fil-A  chicken                     4621.1   \n9                         KFC  chicken                     4459.0   \n18  Popeyes Louisiana Kitchen  chicken                     2253.0   \n\n    Avg_Sales_per_Unit_Thousands  Franchise_Units  Company_Units  Total_Units  \\\n8                         3157.9           1391.0          292.0       1683.0   \n9                          957.0           4319.0          237.0       4556.0   \n18                        1242.0           1634.0           45.0       1679.0   \n\n    id  \n8    8  \n9   25  \n18  36  ",
      "text/html": "<div>\n<style scoped>\n    .dataframe tbody tr th:only-of-type {\n        vertical-align: middle;\n    }\n\n    .dataframe tbody tr th {\n        vertical-align: top;\n    }\n\n    .dataframe thead th {\n        text-align: right;\n    }\n</style>\n<table border=\"1\" class=\"dataframe\">\n  <thead>\n    <tr style=\"text-align: right;\">\n      <th></th>\n      <th>Company</th>\n      <th>Category</th>\n      <th>Systemwide_Sales_Millions</th>\n      <th>Avg_Sales_per_Unit_Thousands</th>\n      <th>Franchise_Units</th>\n      <th>Company_Units</th>\n      <th>Total_Units</th>\n      <th>id</th>\n    </tr>\n  </thead>\n  <tbody>\n    <tr>\n      <td>8</td>\n      <td>Chick-fil-A</td>\n      <td>chicken</td>\n      <td>4621.1</td>\n      <td>3157.9</td>\n      <td>1391.0</td>\n      <td>292.0</td>\n      <td>1683.0</td>\n      <td>8</td>\n    </tr>\n    <tr>\n      <td>9</td>\n      <td>KFC</td>\n      <td>chicken</td>\n      <td>4459.0</td>\n      <td>957.0</td>\n      <td>4319.0</td>\n      <td>237.0</td>\n      <td>4556.0</td>\n      <td>25</td>\n    </tr>\n    <tr>\n      <td>18</td>\n      <td>Popeyes Louisiana Kitchen</td>\n      <td>chicken</td>\n      <td>2253.0</td>\n      <td>1242.0</td>\n      <td>1634.0</td>\n      <td>45.0</td>\n      <td>1679.0</td>\n      <td>36</td>\n    </tr>\n  </tbody>\n</table>\n</div>"
     },
     "metadata": {},
     "execution_count": 27
    }
   ],
   "source": [
    "# Creating dataframe that shows only Chicken Category \n",
    "chicken = transformed_restaurants2012.loc[transformed_restaurants2012[\"Category\"]==\"chicken\",]\n",
    "top_chicken = chicken.iloc[:3]\n",
    "top_chicken"
   ]
  },
  {
   "cell_type": "code",
   "execution_count": 28,
   "metadata": {},
   "outputs": [
    {
     "output_type": "execute_result",
     "data": {
      "text/plain": "         Company  Category  Systemwide_Sales_Millions  \\\n1         Subway  sandwich                    12100.0   \n10  Panera Bread  sandwich                     3861.0   \n14        Arby's  sandwich                     2992.0   \n\n    Avg_Sales_per_Unit_Thousands  Franchise_Units  Company_Units  Total_Units  \\\n1                          481.0          25549.0            0.0      25549.0   \n10                        2427.2            843.0          809.0       1652.0   \n14                         993.2           2343.0         1011.0       3354.0   \n\n    id  \n1   42  \n10  32  \n14   0  ",
      "text/html": "<div>\n<style scoped>\n    .dataframe tbody tr th:only-of-type {\n        vertical-align: middle;\n    }\n\n    .dataframe tbody tr th {\n        vertical-align: top;\n    }\n\n    .dataframe thead th {\n        text-align: right;\n    }\n</style>\n<table border=\"1\" class=\"dataframe\">\n  <thead>\n    <tr style=\"text-align: right;\">\n      <th></th>\n      <th>Company</th>\n      <th>Category</th>\n      <th>Systemwide_Sales_Millions</th>\n      <th>Avg_Sales_per_Unit_Thousands</th>\n      <th>Franchise_Units</th>\n      <th>Company_Units</th>\n      <th>Total_Units</th>\n      <th>id</th>\n    </tr>\n  </thead>\n  <tbody>\n    <tr>\n      <td>1</td>\n      <td>Subway</td>\n      <td>sandwich</td>\n      <td>12100.0</td>\n      <td>481.0</td>\n      <td>25549.0</td>\n      <td>0.0</td>\n      <td>25549.0</td>\n      <td>42</td>\n    </tr>\n    <tr>\n      <td>10</td>\n      <td>Panera Bread</td>\n      <td>sandwich</td>\n      <td>3861.0</td>\n      <td>2427.2</td>\n      <td>843.0</td>\n      <td>809.0</td>\n      <td>1652.0</td>\n      <td>32</td>\n    </tr>\n    <tr>\n      <td>14</td>\n      <td>Arby's</td>\n      <td>sandwich</td>\n      <td>2992.0</td>\n      <td>993.2</td>\n      <td>2343.0</td>\n      <td>1011.0</td>\n      <td>3354.0</td>\n      <td>0</td>\n    </tr>\n  </tbody>\n</table>\n</div>"
     },
     "metadata": {},
     "execution_count": 28
    }
   ],
   "source": [
    "# Creating dataframe that shows only Sandwich Category \n",
    "Sandwich = transformed_restaurants2012.loc[transformed_restaurants2012[\"Category\"]==\"sandwich\",]\n",
    "top_Sandwich = Sandwich.iloc[:3]\n",
    "top_Sandwich"
   ]
  },
  {
   "cell_type": "code",
   "execution_count": 29,
   "metadata": {},
   "outputs": [
    {
     "output_type": "execute_result",
     "data": {
      "text/plain": "           Company     Category  Systemwide_Sales_Millions  \\\n7        Pizza Hut  pizza/pasta                     5666.0   \n12  Domino's Pizza  pizza/pasta                     3500.0   \n16     Papa John's  pizza/pasta                     2402.4   \n\n    Avg_Sales_per_Unit_Thousands  Franchise_Units  Company_Units  Total_Units  \\\n7                          883.0           5757.0          452.0       6209.0   \n12                         710.2           4540.0          388.0       4928.0   \n16                         829.0           2483.0          648.0       3131.0   \n\n    id  \n7   35  \n12  15  \n16  33  ",
      "text/html": "<div>\n<style scoped>\n    .dataframe tbody tr th:only-of-type {\n        vertical-align: middle;\n    }\n\n    .dataframe tbody tr th {\n        vertical-align: top;\n    }\n\n    .dataframe thead th {\n        text-align: right;\n    }\n</style>\n<table border=\"1\" class=\"dataframe\">\n  <thead>\n    <tr style=\"text-align: right;\">\n      <th></th>\n      <th>Company</th>\n      <th>Category</th>\n      <th>Systemwide_Sales_Millions</th>\n      <th>Avg_Sales_per_Unit_Thousands</th>\n      <th>Franchise_Units</th>\n      <th>Company_Units</th>\n      <th>Total_Units</th>\n      <th>id</th>\n    </tr>\n  </thead>\n  <tbody>\n    <tr>\n      <td>7</td>\n      <td>Pizza Hut</td>\n      <td>pizza/pasta</td>\n      <td>5666.0</td>\n      <td>883.0</td>\n      <td>5757.0</td>\n      <td>452.0</td>\n      <td>6209.0</td>\n      <td>35</td>\n    </tr>\n    <tr>\n      <td>12</td>\n      <td>Domino's Pizza</td>\n      <td>pizza/pasta</td>\n      <td>3500.0</td>\n      <td>710.2</td>\n      <td>4540.0</td>\n      <td>388.0</td>\n      <td>4928.0</td>\n      <td>15</td>\n    </tr>\n    <tr>\n      <td>16</td>\n      <td>Papa John's</td>\n      <td>pizza/pasta</td>\n      <td>2402.4</td>\n      <td>829.0</td>\n      <td>2483.0</td>\n      <td>648.0</td>\n      <td>3131.0</td>\n      <td>33</td>\n    </tr>\n  </tbody>\n</table>\n</div>"
     },
     "metadata": {},
     "execution_count": 29
    }
   ],
   "source": [
    "# Creating dataframe that shows only Pizza Category \n",
    "Pizza = transformed_restaurants2012.loc[transformed_restaurants2012[\"Category\"]==\"pizza/pasta\",]\n",
    "top_Pizza = Pizza.iloc[:3]\n",
    "top_Pizza"
   ]
  },
  {
   "cell_type": "code",
   "execution_count": 30,
   "metadata": {},
   "outputs": [
    {
     "output_type": "execute_result",
     "data": {
      "text/plain": "           Company Category  Systemwide_Sales_Millions  \\\n2        Starbucks    snack                    10600.0   \n6   Dunkin' Donuts    snack                     6264.2   \n39    Krispy Kreme    snack                      569.4   \n\n    Avg_Sales_per_Unit_Thousands  Franchise_Units  Company_Units  Total_Units  \\\n2                         1223.0           4262.0         6866.0      11128.0   \n6                          857.4           7278.0           28.0       7306.0   \n39                        2428.0            142.0           97.0        239.0   \n\n    id  \n2   40  \n6   16  \n39  26  ",
      "text/html": "<div>\n<style scoped>\n    .dataframe tbody tr th:only-of-type {\n        vertical-align: middle;\n    }\n\n    .dataframe tbody tr th {\n        vertical-align: top;\n    }\n\n    .dataframe thead th {\n        text-align: right;\n    }\n</style>\n<table border=\"1\" class=\"dataframe\">\n  <thead>\n    <tr style=\"text-align: right;\">\n      <th></th>\n      <th>Company</th>\n      <th>Category</th>\n      <th>Systemwide_Sales_Millions</th>\n      <th>Avg_Sales_per_Unit_Thousands</th>\n      <th>Franchise_Units</th>\n      <th>Company_Units</th>\n      <th>Total_Units</th>\n      <th>id</th>\n    </tr>\n  </thead>\n  <tbody>\n    <tr>\n      <td>2</td>\n      <td>Starbucks</td>\n      <td>snack</td>\n      <td>10600.0</td>\n      <td>1223.0</td>\n      <td>4262.0</td>\n      <td>6866.0</td>\n      <td>11128.0</td>\n      <td>40</td>\n    </tr>\n    <tr>\n      <td>6</td>\n      <td>Dunkin' Donuts</td>\n      <td>snack</td>\n      <td>6264.2</td>\n      <td>857.4</td>\n      <td>7278.0</td>\n      <td>28.0</td>\n      <td>7306.0</td>\n      <td>16</td>\n    </tr>\n    <tr>\n      <td>39</td>\n      <td>Krispy Kreme</td>\n      <td>snack</td>\n      <td>569.4</td>\n      <td>2428.0</td>\n      <td>142.0</td>\n      <td>97.0</td>\n      <td>239.0</td>\n      <td>26</td>\n    </tr>\n  </tbody>\n</table>\n</div>"
     },
     "metadata": {},
     "execution_count": 30
    }
   ],
   "source": [
    "# Creating dataframe that shows only Snack Category \n",
    "Snack = transformed_restaurants2012.loc[transformed_restaurants2012[\"Category\"]==\"snack\",]\n",
    "top_Snack = Snack.iloc[:3]\n",
    "top_Snack"
   ]
  },
  {
   "cell_type": "code",
   "execution_count": 31,
   "metadata": {},
   "outputs": [
    {
     "output_type": "execute_result",
     "data": {
      "text/plain": "      Category  Systemwide_Sales_Millions\n0        asian                     1797.4\n1       burger                    71361.8\n2      chicken                    15619.7\n3      mexican                    11852.3\n4  pizza/pasta                    14495.4\n5     sandwich                    21632.7\n6      seafood                     1190.1\n7        snack                    18925.8",
      "text/html": "<div>\n<style scoped>\n    .dataframe tbody tr th:only-of-type {\n        vertical-align: middle;\n    }\n\n    .dataframe tbody tr th {\n        vertical-align: top;\n    }\n\n    .dataframe thead th {\n        text-align: right;\n    }\n</style>\n<table border=\"1\" class=\"dataframe\">\n  <thead>\n    <tr style=\"text-align: right;\">\n      <th></th>\n      <th>Category</th>\n      <th>Systemwide_Sales_Millions</th>\n    </tr>\n  </thead>\n  <tbody>\n    <tr>\n      <td>0</td>\n      <td>asian</td>\n      <td>1797.4</td>\n    </tr>\n    <tr>\n      <td>1</td>\n      <td>burger</td>\n      <td>71361.8</td>\n    </tr>\n    <tr>\n      <td>2</td>\n      <td>chicken</td>\n      <td>15619.7</td>\n    </tr>\n    <tr>\n      <td>3</td>\n      <td>mexican</td>\n      <td>11852.3</td>\n    </tr>\n    <tr>\n      <td>4</td>\n      <td>pizza/pasta</td>\n      <td>14495.4</td>\n    </tr>\n    <tr>\n      <td>5</td>\n      <td>sandwich</td>\n      <td>21632.7</td>\n    </tr>\n    <tr>\n      <td>6</td>\n      <td>seafood</td>\n      <td>1190.1</td>\n    </tr>\n    <tr>\n      <td>7</td>\n      <td>snack</td>\n      <td>18925.8</td>\n    </tr>\n  </tbody>\n</table>\n</div>"
     },
     "metadata": {},
     "execution_count": 31
    }
   ],
   "source": [
    "total_by_category = transformed_restaurants2012.groupby([\"Category\"])[[\"Systemwide_Sales_Millions\"]].sum()\n",
    "total_by_category = total_by_category.reset_index()\n",
    "total_by_category"
   ]
  },
  {
   "cell_type": "code",
   "execution_count": 32,
   "metadata": {},
   "outputs": [
    {
     "output_type": "execute_result",
     "data": {
      "text/plain": "                      Company     Category  Systemwide_Sales_Millions  \\\n0                  McDonald's       burger                    35600.0   \n3                     Wendy's       burger                     8600.0   \n4                 Burger King       burger                     8587.0   \n8                 Chick-fil-A      chicken                     4621.1   \n9                         KFC      chicken                     4459.0   \n18  Popeyes Louisiana Kitchen      chicken                     2253.0   \n1                      Subway     sandwich                    12100.0   \n10               Panera Bread     sandwich                     3861.0   \n14                     Arby's     sandwich                     2992.0   \n7                   Pizza Hut  pizza/pasta                     5666.0   \n12             Domino's Pizza  pizza/pasta                     3500.0   \n16                Papa John's  pizza/pasta                     2402.4   \n2                   Starbucks        snack                    10600.0   \n6              Dunkin' Donuts        snack                     6264.2   \n39               Krispy Kreme        snack                      569.4   \n\n    Avg_Sales_per_Unit_Thousands  Franchise_Units  Company_Units  Total_Units  \\\n0                         2600.0          12605.0         1552.0      14157.0   \n3                         1483.8           4528.0         1289.0       5817.0   \n4                         1195.0           7000.0          183.0       7183.0   \n8                         3157.9           1391.0          292.0       1683.0   \n9                          957.0           4319.0          237.0       4556.0   \n18                        1242.0           1634.0           45.0       1679.0   \n1                          481.0          25549.0            0.0      25549.0   \n10                        2427.2            843.0          809.0       1652.0   \n14                         993.2           2343.0         1011.0       3354.0   \n7                          883.0           5757.0          452.0       6209.0   \n12                         710.2           4540.0          388.0       4928.0   \n16                         829.0           2483.0          648.0       3131.0   \n2                         1223.0           4262.0         6866.0      11128.0   \n6                          857.4           7278.0           28.0       7306.0   \n39                        2428.0            142.0           97.0        239.0   \n\n    id  \n0   29  \n3   45  \n4    4  \n8    8  \n9   25  \n18  36  \n1   42  \n10  32  \n14   0  \n7   35  \n12  15  \n16  33  \n2   40  \n6   16  \n39  26  ",
      "text/html": "<div>\n<style scoped>\n    .dataframe tbody tr th:only-of-type {\n        vertical-align: middle;\n    }\n\n    .dataframe tbody tr th {\n        vertical-align: top;\n    }\n\n    .dataframe thead th {\n        text-align: right;\n    }\n</style>\n<table border=\"1\" class=\"dataframe\">\n  <thead>\n    <tr style=\"text-align: right;\">\n      <th></th>\n      <th>Company</th>\n      <th>Category</th>\n      <th>Systemwide_Sales_Millions</th>\n      <th>Avg_Sales_per_Unit_Thousands</th>\n      <th>Franchise_Units</th>\n      <th>Company_Units</th>\n      <th>Total_Units</th>\n      <th>id</th>\n    </tr>\n  </thead>\n  <tbody>\n    <tr>\n      <td>0</td>\n      <td>McDonald's</td>\n      <td>burger</td>\n      <td>35600.0</td>\n      <td>2600.0</td>\n      <td>12605.0</td>\n      <td>1552.0</td>\n      <td>14157.0</td>\n      <td>29</td>\n    </tr>\n    <tr>\n      <td>3</td>\n      <td>Wendy's</td>\n      <td>burger</td>\n      <td>8600.0</td>\n      <td>1483.8</td>\n      <td>4528.0</td>\n      <td>1289.0</td>\n      <td>5817.0</td>\n      <td>45</td>\n    </tr>\n    <tr>\n      <td>4</td>\n      <td>Burger King</td>\n      <td>burger</td>\n      <td>8587.0</td>\n      <td>1195.0</td>\n      <td>7000.0</td>\n      <td>183.0</td>\n      <td>7183.0</td>\n      <td>4</td>\n    </tr>\n    <tr>\n      <td>8</td>\n      <td>Chick-fil-A</td>\n      <td>chicken</td>\n      <td>4621.1</td>\n      <td>3157.9</td>\n      <td>1391.0</td>\n      <td>292.0</td>\n      <td>1683.0</td>\n      <td>8</td>\n    </tr>\n    <tr>\n      <td>9</td>\n      <td>KFC</td>\n      <td>chicken</td>\n      <td>4459.0</td>\n      <td>957.0</td>\n      <td>4319.0</td>\n      <td>237.0</td>\n      <td>4556.0</td>\n      <td>25</td>\n    </tr>\n    <tr>\n      <td>18</td>\n      <td>Popeyes Louisiana Kitchen</td>\n      <td>chicken</td>\n      <td>2253.0</td>\n      <td>1242.0</td>\n      <td>1634.0</td>\n      <td>45.0</td>\n      <td>1679.0</td>\n      <td>36</td>\n    </tr>\n    <tr>\n      <td>1</td>\n      <td>Subway</td>\n      <td>sandwich</td>\n      <td>12100.0</td>\n      <td>481.0</td>\n      <td>25549.0</td>\n      <td>0.0</td>\n      <td>25549.0</td>\n      <td>42</td>\n    </tr>\n    <tr>\n      <td>10</td>\n      <td>Panera Bread</td>\n      <td>sandwich</td>\n      <td>3861.0</td>\n      <td>2427.2</td>\n      <td>843.0</td>\n      <td>809.0</td>\n      <td>1652.0</td>\n      <td>32</td>\n    </tr>\n    <tr>\n      <td>14</td>\n      <td>Arby's</td>\n      <td>sandwich</td>\n      <td>2992.0</td>\n      <td>993.2</td>\n      <td>2343.0</td>\n      <td>1011.0</td>\n      <td>3354.0</td>\n      <td>0</td>\n    </tr>\n    <tr>\n      <td>7</td>\n      <td>Pizza Hut</td>\n      <td>pizza/pasta</td>\n      <td>5666.0</td>\n      <td>883.0</td>\n      <td>5757.0</td>\n      <td>452.0</td>\n      <td>6209.0</td>\n      <td>35</td>\n    </tr>\n    <tr>\n      <td>12</td>\n      <td>Domino's Pizza</td>\n      <td>pizza/pasta</td>\n      <td>3500.0</td>\n      <td>710.2</td>\n      <td>4540.0</td>\n      <td>388.0</td>\n      <td>4928.0</td>\n      <td>15</td>\n    </tr>\n    <tr>\n      <td>16</td>\n      <td>Papa John's</td>\n      <td>pizza/pasta</td>\n      <td>2402.4</td>\n      <td>829.0</td>\n      <td>2483.0</td>\n      <td>648.0</td>\n      <td>3131.0</td>\n      <td>33</td>\n    </tr>\n    <tr>\n      <td>2</td>\n      <td>Starbucks</td>\n      <td>snack</td>\n      <td>10600.0</td>\n      <td>1223.0</td>\n      <td>4262.0</td>\n      <td>6866.0</td>\n      <td>11128.0</td>\n      <td>40</td>\n    </tr>\n    <tr>\n      <td>6</td>\n      <td>Dunkin' Donuts</td>\n      <td>snack</td>\n      <td>6264.2</td>\n      <td>857.4</td>\n      <td>7278.0</td>\n      <td>28.0</td>\n      <td>7306.0</td>\n      <td>16</td>\n    </tr>\n    <tr>\n      <td>39</td>\n      <td>Krispy Kreme</td>\n      <td>snack</td>\n      <td>569.4</td>\n      <td>2428.0</td>\n      <td>142.0</td>\n      <td>97.0</td>\n      <td>239.0</td>\n      <td>26</td>\n    </tr>\n  </tbody>\n</table>\n</div>"
     },
     "metadata": {},
     "execution_count": 32
    }
   ],
   "source": [
    "merged_top_df = pd.concat([top_burgers, top_chicken, top_Sandwich, top_Pizza, top_Snack])\n",
    "merged_top_df"
   ]
  },
  {
   "cell_type": "code",
   "execution_count": 33,
   "metadata": {},
   "outputs": [
    {
     "output_type": "execute_result",
     "data": {
      "text/plain": "       Company     Category  Systemwide_Sales_Millions  \\\n0   McDonald's       burger                    35600.0   \n8  Chick-fil-A      chicken                     4621.1   \n7    Pizza Hut  pizza/pasta                     5666.0   \n\n   Avg_Sales_per_Unit_Thousands  Franchise_Units  Company_Units  Total_Units  \\\n0                        2600.0          12605.0         1552.0      14157.0   \n8                        3157.9           1391.0          292.0       1683.0   \n7                         883.0           5757.0          452.0       6209.0   \n\n   id  \n0  29  \n8   8  \n7  35  ",
      "text/html": "<div>\n<style scoped>\n    .dataframe tbody tr th:only-of-type {\n        vertical-align: middle;\n    }\n\n    .dataframe tbody tr th {\n        vertical-align: top;\n    }\n\n    .dataframe thead th {\n        text-align: right;\n    }\n</style>\n<table border=\"1\" class=\"dataframe\">\n  <thead>\n    <tr style=\"text-align: right;\">\n      <th></th>\n      <th>Company</th>\n      <th>Category</th>\n      <th>Systemwide_Sales_Millions</th>\n      <th>Avg_Sales_per_Unit_Thousands</th>\n      <th>Franchise_Units</th>\n      <th>Company_Units</th>\n      <th>Total_Units</th>\n      <th>id</th>\n    </tr>\n  </thead>\n  <tbody>\n    <tr>\n      <td>0</td>\n      <td>McDonald's</td>\n      <td>burger</td>\n      <td>35600.0</td>\n      <td>2600.0</td>\n      <td>12605.0</td>\n      <td>1552.0</td>\n      <td>14157.0</td>\n      <td>29</td>\n    </tr>\n    <tr>\n      <td>8</td>\n      <td>Chick-fil-A</td>\n      <td>chicken</td>\n      <td>4621.1</td>\n      <td>3157.9</td>\n      <td>1391.0</td>\n      <td>292.0</td>\n      <td>1683.0</td>\n      <td>8</td>\n    </tr>\n    <tr>\n      <td>7</td>\n      <td>Pizza Hut</td>\n      <td>pizza/pasta</td>\n      <td>5666.0</td>\n      <td>883.0</td>\n      <td>5757.0</td>\n      <td>452.0</td>\n      <td>6209.0</td>\n      <td>35</td>\n    </tr>\n  </tbody>\n</table>\n</div>"
     },
     "metadata": {},
     "execution_count": 33
    }
   ],
   "source": [
    "# Selecting the top company for each category\n",
    "top_rest_per_category = merged_top_df.loc[(merged_top_df[\"Company\"] == \"McDonald's\") | (merged_top_df[\"Company\"] == \"Chick-fil-A\") | (merged_top_df[\"Company\"] == \"Subway*\") | (merged_top_df[\"Company\"] == \"Pizza Hut\") | (merged_top_df[\"Company\"] == \"Taco Bell\") | (merged_top_df[\"Company\"] == \"Starbucks*<sup>1</sup>\")]\n",
    "top_rest_per_category"
   ]
  },
  {
   "cell_type": "code",
   "execution_count": 34,
   "metadata": {},
   "outputs": [],
   "source": [
    "c.execute('''CREATE TABLE top_rest ([Company] text, [Category] text, [Systemwide_Sales_Millions] number, [Avg_Sales_per_Unit_Thousands] number, [Franchise_Units] number, [Company_Units] number, [Total_Units] number, [id] INTEGER PRIMARY KEY)''')\n",
    "conn.commit()"
   ]
  },
  {
   "cell_type": "code",
   "execution_count": 35,
   "metadata": {},
   "outputs": [],
   "source": [
    "merged_top_df.to_sql('top_rest', conn, if_exists='replace', index=False)"
   ]
  },
  {
   "cell_type": "code",
   "execution_count": 36,
   "metadata": {},
   "outputs": [
    {
     "output_type": "execute_result",
     "data": {
      "text/plain": "<sqlite3.Cursor at 0x203ee71d570>"
     },
     "metadata": {},
     "execution_count": 36
    }
   ],
   "source": [
    "c.execute('''  \n",
    "SELECT * FROM top_rest\n",
    "          ''')"
   ]
  },
  {
   "cell_type": "code",
   "execution_count": 37,
   "metadata": {},
   "outputs": [
    {
     "output_type": "stream",
     "name": "stdout",
     "text": "(\"McDonald's\", 'burger', 35600.0, 2600.0, 12605.0, 1552.0, 14157.0, 29)\n(\"Wendy's\", 'burger', 8600.0, 1483.8, 4528.0, 1289.0, 5817.0, 45)\n('Burger King', 'burger', 8587.0, 1195.0, 7000.0, 183.0, 7183.0, 4)\n('Chick-fil-A', 'chicken', 4621.1, 3157.9, 1391.0, 292.0, 1683.0, 8)\n('KFC', 'chicken', 4459.0, 957.0, 4319.0, 237.0, 4556.0, 25)\n('Popeyes Louisiana Kitchen', 'chicken', 2253.0, 1242.0, 1634.0, 45.0, 1679.0, 36)\n('Subway', 'sandwich', 12100.0, 481.0, 25549.0, 0.0, 25549.0, 42)\n('Panera Bread', 'sandwich', 3861.0, 2427.2, 843.0, 809.0, 1652.0, 32)\n(\"Arby's\", 'sandwich', 2992.0, 993.2, 2343.0, 1011.0, 3354.0, 0)\n('Pizza Hut', 'pizza/pasta', 5666.0, 883.0, 5757.0, 452.0, 6209.0, 35)\n(\"Domino's Pizza\", 'pizza/pasta', 3500.0, 710.2, 4540.0, 388.0, 4928.0, 15)\n(\"Papa John's\", 'pizza/pasta', 2402.4, 829.0, 2483.0, 648.0, 3131.0, 33)\n('Starbucks', 'snack', 10600.0, 1223.0, 4262.0, 6866.0, 11128.0, 40)\n(\"Dunkin' Donuts\", 'snack', 6264.2, 857.4, 7278.0, 28.0, 7306.0, 16)\n('Krispy Kreme', 'snack', 569.4, 2428.0, 142.0, 97.0, 239.0, 26)\n"
    }
   ],
   "source": [
    "for row in c.fetchall():\n",
    "    print (row)"
   ]
  },
  {
   "cell_type": "code",
   "execution_count": 38,
   "metadata": {},
   "outputs": [],
   "source": [
    "c.execute('CREATE TABLE total_by_category (Company text, Category text, Systemwide_Sales_Millions number, Avg_Sales_per_Unit_Thousands number, Franchise_Units number, Company_Units number, Total_Units number, [id] number PRIMARY KEY)')\n",
    "conn.commit()"
   ]
  },
  {
   "cell_type": "code",
   "execution_count": 39,
   "metadata": {},
   "outputs": [],
   "source": [
    "total_by_category.to_sql('total_by_category', conn, if_exists='replace', index=False)"
   ]
  },
  {
   "cell_type": "code",
   "execution_count": 40,
   "metadata": {},
   "outputs": [
    {
     "output_type": "execute_result",
     "data": {
      "text/plain": "<sqlite3.Cursor at 0x203ee71d570>"
     },
     "metadata": {},
     "execution_count": 40
    }
   ],
   "source": [
    "c.execute('''  \n",
    "SELECT * FROM total_by_category\n",
    "          ''')"
   ]
  },
  {
   "cell_type": "code",
   "execution_count": 41,
   "metadata": {},
   "outputs": [
    {
     "output_type": "stream",
     "name": "stdout",
     "text": "('asian', 1797.4)\n('burger', 71361.79999999999)\n('chicken', 15619.699999999999)\n('mexican', 11852.300000000001)\n('pizza/pasta', 14495.4)\n('sandwich', 21632.7)\n('seafood', 1190.1)\n('snack', 18925.800000000003)\n"
    }
   ],
   "source": [
    "for row in c.fetchall():\n",
    "    print (row)"
   ]
  },
  {
   "cell_type": "code",
   "execution_count": 42,
   "metadata": {},
   "outputs": [],
   "source": [
    "c.execute('CREATE TABLE top_rest_per_category (Company text, Category text, Systemwide_Sales_Millions number, Avg_Sales_per_Unit_Thousands number, Franchise_Units number, Company_Units number, Total_Units number, [id] number PRIMARY KEY)')\n",
    "conn.commit()"
   ]
  },
  {
   "cell_type": "code",
   "execution_count": 43,
   "metadata": {},
   "outputs": [],
   "source": [
    "top_rest_per_category.to_sql('top_rest_per_category', conn, if_exists='replace', index=False)"
   ]
  },
  {
   "cell_type": "code",
   "execution_count": 44,
   "metadata": {},
   "outputs": [
    {
     "output_type": "execute_result",
     "data": {
      "text/plain": "<sqlite3.Cursor at 0x203ee71d570>"
     },
     "metadata": {},
     "execution_count": 44
    }
   ],
   "source": [
    "c.execute('''  \n",
    "SELECT * FROM top_rest_per_category\n",
    "          ''')"
   ]
  },
  {
   "cell_type": "code",
   "execution_count": 45,
   "metadata": {},
   "outputs": [
    {
     "output_type": "stream",
     "name": "stdout",
     "text": "(\"McDonald's\", 'burger', 35600.0, 2600.0, 12605.0, 1552.0, 14157.0, 29)\n('Chick-fil-A', 'chicken', 4621.1, 3157.9, 1391.0, 292.0, 1683.0, 8)\n('Pizza Hut', 'pizza/pasta', 5666.0, 883.0, 5757.0, 452.0, 6209.0, 35)\n"
    }
   ],
   "source": [
    "for row in c.fetchall():\n",
    "    print (row)"
   ]
  }
 ]
}